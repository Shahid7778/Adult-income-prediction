{
 "cells": [
  {
   "cell_type": "code",
   "execution_count": 1,
   "id": "43efeeab",
   "metadata": {},
   "outputs": [],
   "source": [
    "import pandas as pd\n",
    "import numpy as np\n",
    "import matplotlib.pyplot as plt\n",
    "import seaborn as sns"
   ]
  },
  {
   "cell_type": "code",
   "execution_count": 2,
   "id": "a388594d",
   "metadata": {},
   "outputs": [],
   "source": [
    "df = pd.read_csv('adult.csv')"
   ]
  },
  {
   "cell_type": "code",
   "execution_count": 3,
   "id": "2cb9629b",
   "metadata": {},
   "outputs": [
    {
     "data": {
      "text/html": [
       "<div>\n",
       "<style scoped>\n",
       "    .dataframe tbody tr th:only-of-type {\n",
       "        vertical-align: middle;\n",
       "    }\n",
       "\n",
       "    .dataframe tbody tr th {\n",
       "        vertical-align: top;\n",
       "    }\n",
       "\n",
       "    .dataframe thead th {\n",
       "        text-align: right;\n",
       "    }\n",
       "</style>\n",
       "<table border=\"1\" class=\"dataframe\">\n",
       "  <thead>\n",
       "    <tr style=\"text-align: right;\">\n",
       "      <th></th>\n",
       "      <th>age</th>\n",
       "      <th>workclass</th>\n",
       "      <th>fnlwgt</th>\n",
       "      <th>education</th>\n",
       "      <th>education-num</th>\n",
       "      <th>marital-status</th>\n",
       "      <th>occupation</th>\n",
       "      <th>relationship</th>\n",
       "      <th>race</th>\n",
       "      <th>sex</th>\n",
       "      <th>capital-gain</th>\n",
       "      <th>capital-loss</th>\n",
       "      <th>hours-per-week</th>\n",
       "      <th>country</th>\n",
       "      <th>salary</th>\n",
       "    </tr>\n",
       "  </thead>\n",
       "  <tbody>\n",
       "    <tr>\n",
       "      <th>0</th>\n",
       "      <td>39</td>\n",
       "      <td>State-gov</td>\n",
       "      <td>77516</td>\n",
       "      <td>Bachelors</td>\n",
       "      <td>13</td>\n",
       "      <td>Never-married</td>\n",
       "      <td>Adm-clerical</td>\n",
       "      <td>Not-in-family</td>\n",
       "      <td>White</td>\n",
       "      <td>Male</td>\n",
       "      <td>2174</td>\n",
       "      <td>0</td>\n",
       "      <td>40</td>\n",
       "      <td>United-States</td>\n",
       "      <td>&lt;=50K</td>\n",
       "    </tr>\n",
       "    <tr>\n",
       "      <th>1</th>\n",
       "      <td>50</td>\n",
       "      <td>Self-emp-not-inc</td>\n",
       "      <td>83311</td>\n",
       "      <td>Bachelors</td>\n",
       "      <td>13</td>\n",
       "      <td>Married-civ-spouse</td>\n",
       "      <td>Exec-managerial</td>\n",
       "      <td>Husband</td>\n",
       "      <td>White</td>\n",
       "      <td>Male</td>\n",
       "      <td>0</td>\n",
       "      <td>0</td>\n",
       "      <td>13</td>\n",
       "      <td>United-States</td>\n",
       "      <td>&lt;=50K</td>\n",
       "    </tr>\n",
       "    <tr>\n",
       "      <th>2</th>\n",
       "      <td>38</td>\n",
       "      <td>Private</td>\n",
       "      <td>215646</td>\n",
       "      <td>HS-grad</td>\n",
       "      <td>9</td>\n",
       "      <td>Divorced</td>\n",
       "      <td>Handlers-cleaners</td>\n",
       "      <td>Not-in-family</td>\n",
       "      <td>White</td>\n",
       "      <td>Male</td>\n",
       "      <td>0</td>\n",
       "      <td>0</td>\n",
       "      <td>40</td>\n",
       "      <td>United-States</td>\n",
       "      <td>&lt;=50K</td>\n",
       "    </tr>\n",
       "    <tr>\n",
       "      <th>3</th>\n",
       "      <td>53</td>\n",
       "      <td>Private</td>\n",
       "      <td>234721</td>\n",
       "      <td>11th</td>\n",
       "      <td>7</td>\n",
       "      <td>Married-civ-spouse</td>\n",
       "      <td>Handlers-cleaners</td>\n",
       "      <td>Husband</td>\n",
       "      <td>Black</td>\n",
       "      <td>Male</td>\n",
       "      <td>0</td>\n",
       "      <td>0</td>\n",
       "      <td>40</td>\n",
       "      <td>United-States</td>\n",
       "      <td>&lt;=50K</td>\n",
       "    </tr>\n",
       "    <tr>\n",
       "      <th>4</th>\n",
       "      <td>28</td>\n",
       "      <td>Private</td>\n",
       "      <td>338409</td>\n",
       "      <td>Bachelors</td>\n",
       "      <td>13</td>\n",
       "      <td>Married-civ-spouse</td>\n",
       "      <td>Prof-specialty</td>\n",
       "      <td>Wife</td>\n",
       "      <td>Black</td>\n",
       "      <td>Female</td>\n",
       "      <td>0</td>\n",
       "      <td>0</td>\n",
       "      <td>40</td>\n",
       "      <td>Cuba</td>\n",
       "      <td>&lt;=50K</td>\n",
       "    </tr>\n",
       "    <tr>\n",
       "      <th>5</th>\n",
       "      <td>37</td>\n",
       "      <td>Private</td>\n",
       "      <td>284582</td>\n",
       "      <td>Masters</td>\n",
       "      <td>14</td>\n",
       "      <td>Married-civ-spouse</td>\n",
       "      <td>Exec-managerial</td>\n",
       "      <td>Wife</td>\n",
       "      <td>White</td>\n",
       "      <td>Female</td>\n",
       "      <td>0</td>\n",
       "      <td>0</td>\n",
       "      <td>40</td>\n",
       "      <td>United-States</td>\n",
       "      <td>&lt;=50K</td>\n",
       "    </tr>\n",
       "    <tr>\n",
       "      <th>6</th>\n",
       "      <td>49</td>\n",
       "      <td>Private</td>\n",
       "      <td>160187</td>\n",
       "      <td>9th</td>\n",
       "      <td>5</td>\n",
       "      <td>Married-spouse-absent</td>\n",
       "      <td>Other-service</td>\n",
       "      <td>Not-in-family</td>\n",
       "      <td>Black</td>\n",
       "      <td>Female</td>\n",
       "      <td>0</td>\n",
       "      <td>0</td>\n",
       "      <td>16</td>\n",
       "      <td>Jamaica</td>\n",
       "      <td>&lt;=50K</td>\n",
       "    </tr>\n",
       "    <tr>\n",
       "      <th>7</th>\n",
       "      <td>52</td>\n",
       "      <td>Self-emp-not-inc</td>\n",
       "      <td>209642</td>\n",
       "      <td>HS-grad</td>\n",
       "      <td>9</td>\n",
       "      <td>Married-civ-spouse</td>\n",
       "      <td>Exec-managerial</td>\n",
       "      <td>Husband</td>\n",
       "      <td>White</td>\n",
       "      <td>Male</td>\n",
       "      <td>0</td>\n",
       "      <td>0</td>\n",
       "      <td>45</td>\n",
       "      <td>United-States</td>\n",
       "      <td>&gt;50K</td>\n",
       "    </tr>\n",
       "    <tr>\n",
       "      <th>8</th>\n",
       "      <td>31</td>\n",
       "      <td>Private</td>\n",
       "      <td>45781</td>\n",
       "      <td>Masters</td>\n",
       "      <td>14</td>\n",
       "      <td>Never-married</td>\n",
       "      <td>Prof-specialty</td>\n",
       "      <td>Not-in-family</td>\n",
       "      <td>White</td>\n",
       "      <td>Female</td>\n",
       "      <td>14084</td>\n",
       "      <td>0</td>\n",
       "      <td>50</td>\n",
       "      <td>United-States</td>\n",
       "      <td>&gt;50K</td>\n",
       "    </tr>\n",
       "    <tr>\n",
       "      <th>9</th>\n",
       "      <td>42</td>\n",
       "      <td>Private</td>\n",
       "      <td>159449</td>\n",
       "      <td>Bachelors</td>\n",
       "      <td>13</td>\n",
       "      <td>Married-civ-spouse</td>\n",
       "      <td>Exec-managerial</td>\n",
       "      <td>Husband</td>\n",
       "      <td>White</td>\n",
       "      <td>Male</td>\n",
       "      <td>5178</td>\n",
       "      <td>0</td>\n",
       "      <td>40</td>\n",
       "      <td>United-States</td>\n",
       "      <td>&gt;50K</td>\n",
       "    </tr>\n",
       "    <tr>\n",
       "      <th>10</th>\n",
       "      <td>37</td>\n",
       "      <td>Private</td>\n",
       "      <td>280464</td>\n",
       "      <td>Some-college</td>\n",
       "      <td>10</td>\n",
       "      <td>Married-civ-spouse</td>\n",
       "      <td>Exec-managerial</td>\n",
       "      <td>Husband</td>\n",
       "      <td>Black</td>\n",
       "      <td>Male</td>\n",
       "      <td>0</td>\n",
       "      <td>0</td>\n",
       "      <td>80</td>\n",
       "      <td>United-States</td>\n",
       "      <td>&gt;50K</td>\n",
       "    </tr>\n",
       "    <tr>\n",
       "      <th>11</th>\n",
       "      <td>30</td>\n",
       "      <td>State-gov</td>\n",
       "      <td>141297</td>\n",
       "      <td>Bachelors</td>\n",
       "      <td>13</td>\n",
       "      <td>Married-civ-spouse</td>\n",
       "      <td>Prof-specialty</td>\n",
       "      <td>Husband</td>\n",
       "      <td>Asian-Pac-Islander</td>\n",
       "      <td>Male</td>\n",
       "      <td>0</td>\n",
       "      <td>0</td>\n",
       "      <td>40</td>\n",
       "      <td>India</td>\n",
       "      <td>&gt;50K</td>\n",
       "    </tr>\n",
       "    <tr>\n",
       "      <th>12</th>\n",
       "      <td>23</td>\n",
       "      <td>Private</td>\n",
       "      <td>122272</td>\n",
       "      <td>Bachelors</td>\n",
       "      <td>13</td>\n",
       "      <td>Never-married</td>\n",
       "      <td>Adm-clerical</td>\n",
       "      <td>Own-child</td>\n",
       "      <td>White</td>\n",
       "      <td>Female</td>\n",
       "      <td>0</td>\n",
       "      <td>0</td>\n",
       "      <td>30</td>\n",
       "      <td>United-States</td>\n",
       "      <td>&lt;=50K</td>\n",
       "    </tr>\n",
       "    <tr>\n",
       "      <th>13</th>\n",
       "      <td>32</td>\n",
       "      <td>Private</td>\n",
       "      <td>205019</td>\n",
       "      <td>Assoc-acdm</td>\n",
       "      <td>12</td>\n",
       "      <td>Never-married</td>\n",
       "      <td>Sales</td>\n",
       "      <td>Not-in-family</td>\n",
       "      <td>Black</td>\n",
       "      <td>Male</td>\n",
       "      <td>0</td>\n",
       "      <td>0</td>\n",
       "      <td>50</td>\n",
       "      <td>United-States</td>\n",
       "      <td>&lt;=50K</td>\n",
       "    </tr>\n",
       "    <tr>\n",
       "      <th>14</th>\n",
       "      <td>40</td>\n",
       "      <td>Private</td>\n",
       "      <td>121772</td>\n",
       "      <td>Assoc-voc</td>\n",
       "      <td>11</td>\n",
       "      <td>Married-civ-spouse</td>\n",
       "      <td>Craft-repair</td>\n",
       "      <td>Husband</td>\n",
       "      <td>Asian-Pac-Islander</td>\n",
       "      <td>Male</td>\n",
       "      <td>0</td>\n",
       "      <td>0</td>\n",
       "      <td>40</td>\n",
       "      <td>?</td>\n",
       "      <td>&gt;50K</td>\n",
       "    </tr>\n",
       "    <tr>\n",
       "      <th>15</th>\n",
       "      <td>34</td>\n",
       "      <td>Private</td>\n",
       "      <td>245487</td>\n",
       "      <td>7th-8th</td>\n",
       "      <td>4</td>\n",
       "      <td>Married-civ-spouse</td>\n",
       "      <td>Transport-moving</td>\n",
       "      <td>Husband</td>\n",
       "      <td>Amer-Indian-Eskimo</td>\n",
       "      <td>Male</td>\n",
       "      <td>0</td>\n",
       "      <td>0</td>\n",
       "      <td>45</td>\n",
       "      <td>Mexico</td>\n",
       "      <td>&lt;=50K</td>\n",
       "    </tr>\n",
       "    <tr>\n",
       "      <th>16</th>\n",
       "      <td>25</td>\n",
       "      <td>Self-emp-not-inc</td>\n",
       "      <td>176756</td>\n",
       "      <td>HS-grad</td>\n",
       "      <td>9</td>\n",
       "      <td>Never-married</td>\n",
       "      <td>Farming-fishing</td>\n",
       "      <td>Own-child</td>\n",
       "      <td>White</td>\n",
       "      <td>Male</td>\n",
       "      <td>0</td>\n",
       "      <td>0</td>\n",
       "      <td>35</td>\n",
       "      <td>United-States</td>\n",
       "      <td>&lt;=50K</td>\n",
       "    </tr>\n",
       "    <tr>\n",
       "      <th>17</th>\n",
       "      <td>32</td>\n",
       "      <td>Private</td>\n",
       "      <td>186824</td>\n",
       "      <td>HS-grad</td>\n",
       "      <td>9</td>\n",
       "      <td>Never-married</td>\n",
       "      <td>Machine-op-inspct</td>\n",
       "      <td>Unmarried</td>\n",
       "      <td>White</td>\n",
       "      <td>Male</td>\n",
       "      <td>0</td>\n",
       "      <td>0</td>\n",
       "      <td>40</td>\n",
       "      <td>United-States</td>\n",
       "      <td>&lt;=50K</td>\n",
       "    </tr>\n",
       "    <tr>\n",
       "      <th>18</th>\n",
       "      <td>38</td>\n",
       "      <td>Private</td>\n",
       "      <td>28887</td>\n",
       "      <td>11th</td>\n",
       "      <td>7</td>\n",
       "      <td>Married-civ-spouse</td>\n",
       "      <td>Sales</td>\n",
       "      <td>Husband</td>\n",
       "      <td>White</td>\n",
       "      <td>Male</td>\n",
       "      <td>0</td>\n",
       "      <td>0</td>\n",
       "      <td>50</td>\n",
       "      <td>United-States</td>\n",
       "      <td>&lt;=50K</td>\n",
       "    </tr>\n",
       "    <tr>\n",
       "      <th>19</th>\n",
       "      <td>43</td>\n",
       "      <td>Self-emp-not-inc</td>\n",
       "      <td>292175</td>\n",
       "      <td>Masters</td>\n",
       "      <td>14</td>\n",
       "      <td>Divorced</td>\n",
       "      <td>Exec-managerial</td>\n",
       "      <td>Unmarried</td>\n",
       "      <td>White</td>\n",
       "      <td>Female</td>\n",
       "      <td>0</td>\n",
       "      <td>0</td>\n",
       "      <td>45</td>\n",
       "      <td>United-States</td>\n",
       "      <td>&gt;50K</td>\n",
       "    </tr>\n",
       "  </tbody>\n",
       "</table>\n",
       "</div>"
      ],
      "text/plain": [
       "    age          workclass  fnlwgt      education  education-num  \\\n",
       "0    39          State-gov   77516      Bachelors             13   \n",
       "1    50   Self-emp-not-inc   83311      Bachelors             13   \n",
       "2    38            Private  215646        HS-grad              9   \n",
       "3    53            Private  234721           11th              7   \n",
       "4    28            Private  338409      Bachelors             13   \n",
       "5    37            Private  284582        Masters             14   \n",
       "6    49            Private  160187            9th              5   \n",
       "7    52   Self-emp-not-inc  209642        HS-grad              9   \n",
       "8    31            Private   45781        Masters             14   \n",
       "9    42            Private  159449      Bachelors             13   \n",
       "10   37            Private  280464   Some-college             10   \n",
       "11   30          State-gov  141297      Bachelors             13   \n",
       "12   23            Private  122272      Bachelors             13   \n",
       "13   32            Private  205019     Assoc-acdm             12   \n",
       "14   40            Private  121772      Assoc-voc             11   \n",
       "15   34            Private  245487        7th-8th              4   \n",
       "16   25   Self-emp-not-inc  176756        HS-grad              9   \n",
       "17   32            Private  186824        HS-grad              9   \n",
       "18   38            Private   28887           11th              7   \n",
       "19   43   Self-emp-not-inc  292175        Masters             14   \n",
       "\n",
       "            marital-status          occupation    relationship  \\\n",
       "0            Never-married        Adm-clerical   Not-in-family   \n",
       "1       Married-civ-spouse     Exec-managerial         Husband   \n",
       "2                 Divorced   Handlers-cleaners   Not-in-family   \n",
       "3       Married-civ-spouse   Handlers-cleaners         Husband   \n",
       "4       Married-civ-spouse      Prof-specialty            Wife   \n",
       "5       Married-civ-spouse     Exec-managerial            Wife   \n",
       "6    Married-spouse-absent       Other-service   Not-in-family   \n",
       "7       Married-civ-spouse     Exec-managerial         Husband   \n",
       "8            Never-married      Prof-specialty   Not-in-family   \n",
       "9       Married-civ-spouse     Exec-managerial         Husband   \n",
       "10      Married-civ-spouse     Exec-managerial         Husband   \n",
       "11      Married-civ-spouse      Prof-specialty         Husband   \n",
       "12           Never-married        Adm-clerical       Own-child   \n",
       "13           Never-married               Sales   Not-in-family   \n",
       "14      Married-civ-spouse        Craft-repair         Husband   \n",
       "15      Married-civ-spouse    Transport-moving         Husband   \n",
       "16           Never-married     Farming-fishing       Own-child   \n",
       "17           Never-married   Machine-op-inspct       Unmarried   \n",
       "18      Married-civ-spouse               Sales         Husband   \n",
       "19                Divorced     Exec-managerial       Unmarried   \n",
       "\n",
       "                   race      sex  capital-gain  capital-loss  hours-per-week  \\\n",
       "0                 White     Male          2174             0              40   \n",
       "1                 White     Male             0             0              13   \n",
       "2                 White     Male             0             0              40   \n",
       "3                 Black     Male             0             0              40   \n",
       "4                 Black   Female             0             0              40   \n",
       "5                 White   Female             0             0              40   \n",
       "6                 Black   Female             0             0              16   \n",
       "7                 White     Male             0             0              45   \n",
       "8                 White   Female         14084             0              50   \n",
       "9                 White     Male          5178             0              40   \n",
       "10                Black     Male             0             0              80   \n",
       "11   Asian-Pac-Islander     Male             0             0              40   \n",
       "12                White   Female             0             0              30   \n",
       "13                Black     Male             0             0              50   \n",
       "14   Asian-Pac-Islander     Male             0             0              40   \n",
       "15   Amer-Indian-Eskimo     Male             0             0              45   \n",
       "16                White     Male             0             0              35   \n",
       "17                White     Male             0             0              40   \n",
       "18                White     Male             0             0              50   \n",
       "19                White   Female             0             0              45   \n",
       "\n",
       "           country  salary  \n",
       "0    United-States   <=50K  \n",
       "1    United-States   <=50K  \n",
       "2    United-States   <=50K  \n",
       "3    United-States   <=50K  \n",
       "4             Cuba   <=50K  \n",
       "5    United-States   <=50K  \n",
       "6          Jamaica   <=50K  \n",
       "7    United-States    >50K  \n",
       "8    United-States    >50K  \n",
       "9    United-States    >50K  \n",
       "10   United-States    >50K  \n",
       "11           India    >50K  \n",
       "12   United-States   <=50K  \n",
       "13   United-States   <=50K  \n",
       "14               ?    >50K  \n",
       "15          Mexico   <=50K  \n",
       "16   United-States   <=50K  \n",
       "17   United-States   <=50K  \n",
       "18   United-States   <=50K  \n",
       "19   United-States    >50K  "
      ]
     },
     "execution_count": 3,
     "metadata": {},
     "output_type": "execute_result"
    }
   ],
   "source": [
    "pd.set_option('Display.Max_Columns', 100)\n",
    "df.head(20)"
   ]
  },
  {
   "cell_type": "code",
   "execution_count": 4,
   "id": "a17fd853",
   "metadata": {},
   "outputs": [
    {
     "data": {
      "text/html": [
       "<div>\n",
       "<style scoped>\n",
       "    .dataframe tbody tr th:only-of-type {\n",
       "        vertical-align: middle;\n",
       "    }\n",
       "\n",
       "    .dataframe tbody tr th {\n",
       "        vertical-align: top;\n",
       "    }\n",
       "\n",
       "    .dataframe thead th {\n",
       "        text-align: right;\n",
       "    }\n",
       "</style>\n",
       "<table border=\"1\" class=\"dataframe\">\n",
       "  <thead>\n",
       "    <tr style=\"text-align: right;\">\n",
       "      <th></th>\n",
       "      <th>age</th>\n",
       "      <th>fnlwgt</th>\n",
       "      <th>education-num</th>\n",
       "      <th>capital-gain</th>\n",
       "      <th>capital-loss</th>\n",
       "      <th>hours-per-week</th>\n",
       "    </tr>\n",
       "  </thead>\n",
       "  <tbody>\n",
       "    <tr>\n",
       "      <th>count</th>\n",
       "      <td>32561.000000</td>\n",
       "      <td>3.256100e+04</td>\n",
       "      <td>32561.000000</td>\n",
       "      <td>32561.000000</td>\n",
       "      <td>32561.000000</td>\n",
       "      <td>32561.000000</td>\n",
       "    </tr>\n",
       "    <tr>\n",
       "      <th>mean</th>\n",
       "      <td>38.581647</td>\n",
       "      <td>1.897784e+05</td>\n",
       "      <td>10.080679</td>\n",
       "      <td>1077.648844</td>\n",
       "      <td>87.303830</td>\n",
       "      <td>40.437456</td>\n",
       "    </tr>\n",
       "    <tr>\n",
       "      <th>std</th>\n",
       "      <td>13.640433</td>\n",
       "      <td>1.055500e+05</td>\n",
       "      <td>2.572720</td>\n",
       "      <td>7385.292085</td>\n",
       "      <td>402.960219</td>\n",
       "      <td>12.347429</td>\n",
       "    </tr>\n",
       "    <tr>\n",
       "      <th>min</th>\n",
       "      <td>17.000000</td>\n",
       "      <td>1.228500e+04</td>\n",
       "      <td>1.000000</td>\n",
       "      <td>0.000000</td>\n",
       "      <td>0.000000</td>\n",
       "      <td>1.000000</td>\n",
       "    </tr>\n",
       "    <tr>\n",
       "      <th>25%</th>\n",
       "      <td>28.000000</td>\n",
       "      <td>1.178270e+05</td>\n",
       "      <td>9.000000</td>\n",
       "      <td>0.000000</td>\n",
       "      <td>0.000000</td>\n",
       "      <td>40.000000</td>\n",
       "    </tr>\n",
       "    <tr>\n",
       "      <th>50%</th>\n",
       "      <td>37.000000</td>\n",
       "      <td>1.783560e+05</td>\n",
       "      <td>10.000000</td>\n",
       "      <td>0.000000</td>\n",
       "      <td>0.000000</td>\n",
       "      <td>40.000000</td>\n",
       "    </tr>\n",
       "    <tr>\n",
       "      <th>75%</th>\n",
       "      <td>48.000000</td>\n",
       "      <td>2.370510e+05</td>\n",
       "      <td>12.000000</td>\n",
       "      <td>0.000000</td>\n",
       "      <td>0.000000</td>\n",
       "      <td>45.000000</td>\n",
       "    </tr>\n",
       "    <tr>\n",
       "      <th>max</th>\n",
       "      <td>90.000000</td>\n",
       "      <td>1.484705e+06</td>\n",
       "      <td>16.000000</td>\n",
       "      <td>99999.000000</td>\n",
       "      <td>4356.000000</td>\n",
       "      <td>99.000000</td>\n",
       "    </tr>\n",
       "  </tbody>\n",
       "</table>\n",
       "</div>"
      ],
      "text/plain": [
       "                age        fnlwgt  education-num  capital-gain  capital-loss  \\\n",
       "count  32561.000000  3.256100e+04   32561.000000  32561.000000  32561.000000   \n",
       "mean      38.581647  1.897784e+05      10.080679   1077.648844     87.303830   \n",
       "std       13.640433  1.055500e+05       2.572720   7385.292085    402.960219   \n",
       "min       17.000000  1.228500e+04       1.000000      0.000000      0.000000   \n",
       "25%       28.000000  1.178270e+05       9.000000      0.000000      0.000000   \n",
       "50%       37.000000  1.783560e+05      10.000000      0.000000      0.000000   \n",
       "75%       48.000000  2.370510e+05      12.000000      0.000000      0.000000   \n",
       "max       90.000000  1.484705e+06      16.000000  99999.000000   4356.000000   \n",
       "\n",
       "       hours-per-week  \n",
       "count    32561.000000  \n",
       "mean        40.437456  \n",
       "std         12.347429  \n",
       "min          1.000000  \n",
       "25%         40.000000  \n",
       "50%         40.000000  \n",
       "75%         45.000000  \n",
       "max         99.000000  "
      ]
     },
     "execution_count": 4,
     "metadata": {},
     "output_type": "execute_result"
    }
   ],
   "source": [
    "df.describe()"
   ]
  },
  {
   "cell_type": "code",
   "execution_count": 5,
   "id": "17a610be",
   "metadata": {},
   "outputs": [
    {
     "name": "stdout",
     "output_type": "stream",
     "text": [
      "<class 'pandas.core.frame.DataFrame'>\n",
      "RangeIndex: 32561 entries, 0 to 32560\n",
      "Data columns (total 15 columns):\n",
      " #   Column          Non-Null Count  Dtype \n",
      "---  ------          --------------  ----- \n",
      " 0   age             32561 non-null  int64 \n",
      " 1   workclass       32561 non-null  object\n",
      " 2   fnlwgt          32561 non-null  int64 \n",
      " 3   education       32561 non-null  object\n",
      " 4   education-num   32561 non-null  int64 \n",
      " 5   marital-status  32561 non-null  object\n",
      " 6   occupation      32561 non-null  object\n",
      " 7   relationship    32561 non-null  object\n",
      " 8   race            32561 non-null  object\n",
      " 9   sex             32561 non-null  object\n",
      " 10  capital-gain    32561 non-null  int64 \n",
      " 11  capital-loss    32561 non-null  int64 \n",
      " 12  hours-per-week  32561 non-null  int64 \n",
      " 13  country         32561 non-null  object\n",
      " 14  salary          32561 non-null  object\n",
      "dtypes: int64(6), object(9)\n",
      "memory usage: 3.7+ MB\n"
     ]
    }
   ],
   "source": [
    "df.info()"
   ]
  },
  {
   "cell_type": "markdown",
   "id": "661990ab",
   "metadata": {},
   "source": [
    "From the above summary we can see that there are no null values in the data, but we need to check for any irrelevant punctuation marks present in the data."
   ]
  },
  {
   "cell_type": "code",
   "execution_count": 6,
   "id": "4ce8311e",
   "metadata": {},
   "outputs": [
    {
     "data": {
      "text/plain": [
       "age                  0\n",
       "workclass         1836\n",
       "fnlwgt               0\n",
       "education            0\n",
       "education-num        0\n",
       "marital-status       0\n",
       "occupation        1843\n",
       "relationship         0\n",
       "race                 0\n",
       "sex                  0\n",
       "capital-gain         0\n",
       "capital-loss         0\n",
       "hours-per-week       0\n",
       "country            583\n",
       "salary               0\n",
       "dtype: int64"
      ]
     },
     "execution_count": 6,
     "metadata": {},
     "output_type": "execute_result"
    }
   ],
   "source": [
    "df.isin([' ?']).sum()"
   ]
  },
  {
   "cell_type": "markdown",
   "id": "15ea09d5",
   "metadata": {},
   "source": [
    "As we can see from the above that there values like (?) in the data. We need to convert those values as null."
   ]
  },
  {
   "cell_type": "code",
   "execution_count": 7,
   "id": "10f0c88c",
   "metadata": {},
   "outputs": [],
   "source": [
    "df[df == ' ?'] = np.nan"
   ]
  },
  {
   "cell_type": "code",
   "execution_count": 8,
   "id": "d718164d",
   "metadata": {},
   "outputs": [
    {
     "name": "stdout",
     "output_type": "stream",
     "text": [
      "<class 'pandas.core.frame.DataFrame'>\n",
      "RangeIndex: 32561 entries, 0 to 32560\n",
      "Data columns (total 15 columns):\n",
      " #   Column          Non-Null Count  Dtype \n",
      "---  ------          --------------  ----- \n",
      " 0   age             32561 non-null  int64 \n",
      " 1   workclass       30725 non-null  object\n",
      " 2   fnlwgt          32561 non-null  int64 \n",
      " 3   education       32561 non-null  object\n",
      " 4   education-num   32561 non-null  int64 \n",
      " 5   marital-status  32561 non-null  object\n",
      " 6   occupation      30718 non-null  object\n",
      " 7   relationship    32561 non-null  object\n",
      " 8   race            32561 non-null  object\n",
      " 9   sex             32561 non-null  object\n",
      " 10  capital-gain    32561 non-null  int64 \n",
      " 11  capital-loss    32561 non-null  int64 \n",
      " 12  hours-per-week  32561 non-null  int64 \n",
      " 13  country         31978 non-null  object\n",
      " 14  salary          32561 non-null  object\n",
      "dtypes: int64(6), object(9)\n",
      "memory usage: 3.7+ MB\n"
     ]
    }
   ],
   "source": [
    "df.info()"
   ]
  },
  {
   "cell_type": "markdown",
   "id": "3233d77e",
   "metadata": {},
   "source": [
    "Now, the summary shows that the variables - workclass, occupation and native.country contains missing values. We can fill these values of these categorical variables with the most frequent values = 'Mode'."
   ]
  },
  {
   "cell_type": "code",
   "execution_count": 9,
   "id": "a1ab771d",
   "metadata": {},
   "outputs": [
    {
     "data": {
      "text/plain": [
       "age                  0\n",
       "workclass         1836\n",
       "fnlwgt               0\n",
       "education            0\n",
       "education-num        0\n",
       "marital-status       0\n",
       "occupation        1843\n",
       "relationship         0\n",
       "race                 0\n",
       "sex                  0\n",
       "capital-gain         0\n",
       "capital-loss         0\n",
       "hours-per-week       0\n",
       "country            583\n",
       "salary               0\n",
       "dtype: int64"
      ]
     },
     "execution_count": 9,
     "metadata": {},
     "output_type": "execute_result"
    }
   ],
   "source": [
    "df.isnull().sum()"
   ]
  },
  {
   "cell_type": "markdown",
   "id": "a2096071",
   "metadata": {},
   "source": [
    "Convert the null values with the Mode."
   ]
  },
  {
   "cell_type": "code",
   "execution_count": 10,
   "id": "91ed14f7",
   "metadata": {},
   "outputs": [],
   "source": [
    "for col in['workclass', 'occupation', 'country']:\n",
    "    df[col].fillna(df[col].mode()[0], inplace=True)"
   ]
  },
  {
   "cell_type": "code",
   "execution_count": 11,
   "id": "4cde4e73",
   "metadata": {
    "scrolled": true
   },
   "outputs": [
    {
     "data": {
      "text/plain": [
       "age               0\n",
       "workclass         0\n",
       "fnlwgt            0\n",
       "education         0\n",
       "education-num     0\n",
       "marital-status    0\n",
       "occupation        0\n",
       "relationship      0\n",
       "race              0\n",
       "sex               0\n",
       "capital-gain      0\n",
       "capital-loss      0\n",
       "hours-per-week    0\n",
       "country           0\n",
       "salary            0\n",
       "dtype: int64"
      ]
     },
     "execution_count": 11,
     "metadata": {},
     "output_type": "execute_result"
    }
   ],
   "source": [
    "df.isnull().sum()"
   ]
  },
  {
   "cell_type": "markdown",
   "id": "2a78de15",
   "metadata": {},
   "source": [
    "   Now there are no null values in the data. Now let us do some Exploratory Data Analysis with the features present in the data."
   ]
  },
  {
   "cell_type": "markdown",
   "id": "ece22794",
   "metadata": {},
   "source": [
    "# EDA - EXPLORATORY DATA ANALYSIS\n",
    "From this data we will treat the last Feature i.e. __Salary__ as the dependent variable or the label outcomes to classify and train the model."
   ]
  },
  {
   "cell_type": "code",
   "execution_count": 12,
   "id": "7ad5798e",
   "metadata": {
    "scrolled": true
   },
   "outputs": [
    {
     "data": {
      "text/plain": [
       " <=50K    0.75919\n",
       " >50K     0.24081\n",
       "Name: salary, dtype: float64"
      ]
     },
     "execution_count": 12,
     "metadata": {},
     "output_type": "execute_result"
    }
   ],
   "source": [
    "df['salary'].value_counts(normalize=True)"
   ]
  },
  {
   "cell_type": "markdown",
   "id": "d67ac479",
   "metadata": {},
   "source": [
    "From the above, we can say most of the values in salary are imbalanced and lies on one side of the data."
   ]
  },
  {
   "cell_type": "code",
   "execution_count": 13,
   "id": "fe5b76db",
   "metadata": {},
   "outputs": [
    {
     "data": {
      "image/png": "[encoded data removed]",
      "text/plain": [
       "<Figure size 720x432 with 1 Axes>"
      ]
     },
     "metadata": {
      "needs_background": "light"
     },
     "output_type": "display_data"
    }
   ],
   "source": [
    "plt.figure(figsize=(10,6))\n",
    "sns.histplot(df['salary'], color='green',bins=15)\n",
    "plt.tight_layout()\n",
    "plt.grid(True)\n",
    "plt.title('Salry distribution')\n",
    "plt.show()"
   ]
  },
  {
   "cell_type": "markdown",
   "id": "c79e19a2",
   "metadata": {},
   "source": [
    "From the above graph also we can interprete that the data is _Skewed_ to one side, hence we can implement the sampling method during model evaluation."
   ]
  },
  {
   "cell_type": "markdown",
   "id": "2eb4f728",
   "metadata": {},
   "source": [
    "__Relationship with the Age and the Salary factor__"
   ]
  },
  {
   "cell_type": "code",
   "execution_count": 14,
   "id": "4e8efadc",
   "metadata": {},
   "outputs": [
    {
     "data": {
      "image/png": "[encoded data removed]",
      "text/plain": [
       "<Figure size 720x432 with 1 Axes>"
      ]
     },
     "metadata": {
      "needs_background": "light"
     },
     "output_type": "display_data"
    }
   ],
   "source": [
    "plt.figure(figsize=(10,6))\n",
    "sns.histplot(x=df['age'],hue=df['salary'],color='blue',bins=15)\n",
    "plt.tight_layout()\n",
    "plt.grid(True)\n",
    "plt.title('Age distribution')\n",
    "plt.show()"
   ]
  },
  {
   "cell_type": "markdown",
   "id": "4564dc79",
   "metadata": {},
   "source": [
    "From the above Graph we see that most of the person within the Age bracket of 20-30 are earning salary of less than 50K, and people with age 40-60 are more earning higher salaries."
   ]
  },
  {
   "cell_type": "markdown",
   "id": "5f55ab5a",
   "metadata": {},
   "source": [
    "__Relationship with the Workclass and the Salary factor__"
   ]
  },
  {
   "cell_type": "code",
   "execution_count": 15,
   "id": "ff076db9",
   "metadata": {},
   "outputs": [
    {
     "data": {
      "image/png": "[encoded data removed]",
      "text/plain": [
       "<Figure size 720x432 with 1 Axes>"
      ]
     },
     "metadata": {
      "needs_background": "light"
     },
     "output_type": "display_data"
    }
   ],
   "source": [
    "plt.figure(figsize=(10,6))\n",
    "sns.countplot(x=df['workclass'],hue=df['salary'],palette='viridis',saturation=1.0,edgecolor=\"blue\")\n",
    "plt.tight_layout()\n",
    "plt.ylabel('No.of People')\n",
    "plt.grid(True)\n",
    "plt.show()"
   ]
  },
  {
   "cell_type": "markdown",
   "id": "d2fd42d1",
   "metadata": {},
   "source": [
    "The above graph depicts majority of the people works in Private sector in which <50k earnings are more than the >50k salaried people."
   ]
  },
  {
   "cell_type": "markdown",
   "id": "0a8f25f0",
   "metadata": {},
   "source": [
    "__Relationship with the Education and the Salary factor__"
   ]
  },
  {
   "cell_type": "code",
   "execution_count": 16,
   "id": "f7cd01d6",
   "metadata": {},
   "outputs": [
    {
     "data": {
      "image/png": "[encoded data removed]",
      "text/plain": [
       "<Figure size 1152x432 with 1 Axes>"
      ]
     },
     "metadata": {
      "needs_background": "light"
     },
     "output_type": "display_data"
    }
   ],
   "source": [
    "plt.figure(figsize=(16,6))\n",
    "sns.countplot(x=df['education'],hue=df['salary'],palette='viridis',saturation=1.0,edgecolor=\"blue\")\n",
    "plt.tight_layout()\n",
    "plt.ylabel('No.of People')\n",
    "plt.grid(True)\n",
    "plt.show()"
   ]
  },
  {
   "cell_type": "markdown",
   "id": "8d97eedc",
   "metadata": {},
   "source": [
    "In the above graph, the HS-grad show more earning potential among the people. And only a few number of people has possed Docorate with higher income."
   ]
  },
  {
   "cell_type": "markdown",
   "id": "20c9dc67",
   "metadata": {},
   "source": [
    "__Relationship with the Marital status and the Salary factor__"
   ]
  },
  {
   "cell_type": "code",
   "execution_count": 17,
   "id": "8ba9316f",
   "metadata": {},
   "outputs": [
    {
     "data": {
      "image/png": "[encoded data removed]",
      "text/plain": [
       "<Figure size 720x432 with 1 Axes>"
      ]
     },
     "metadata": {
      "needs_background": "light"
     },
     "output_type": "display_data"
    }
   ],
   "source": [
    "plt.figure(figsize=(10,6))\n",
    "sns.countplot(x=df['marital-status'],hue=df['salary'],palette='viridis',saturation=0.9,edgecolor=\"black\")\n",
    "plt.tight_layout()\n",
    "plt.grid(True)\n",
    "plt.show()"
   ]
  },
  {
   "cell_type": "markdown",
   "id": "1e86549a",
   "metadata": {},
   "source": [
    "The Graph represent that Married and staying along with spouse has more earning with above 50K, where never married people has potential to earn less than 50k."
   ]
  },
  {
   "cell_type": "markdown",
   "id": "48ffe678",
   "metadata": {},
   "source": [
    "__Relationship with the Occupation and the Salary factor__"
   ]
  },
  {
   "cell_type": "code",
   "execution_count": 18,
   "id": "3a553998",
   "metadata": {},
   "outputs": [
    {
     "data": {
      "image/png": "[encoded data removed]",
      "text/plain": [
       "<Figure size 720x432 with 1 Axes>"
      ]
     },
     "metadata": {
      "needs_background": "light"
     },
     "output_type": "display_data"
    }
   ],
   "source": [
    "plt.figure(figsize=(10,6))\n",
    "sns.countplot(y=df['occupation'],hue=df['salary'],palette='viridis',saturation=0.9,edgecolor=\"black\")\n",
    "plt.tight_layout()\n",
    "plt.grid(True)\n",
    "plt.show()"
   ]
  },
  {
   "cell_type": "markdown",
   "id": "cc79d3bc",
   "metadata": {},
   "source": [
    "The above graph shows some uniformity in the data, as most of the people falls in th prof-speciality category, which gives higher income in the profession services."
   ]
  },
  {
   "cell_type": "markdown",
   "id": "eb76292c",
   "metadata": {},
   "source": [
    "__Relationship with the Relation and the Salary factor__"
   ]
  },
  {
   "cell_type": "code",
   "execution_count": 19,
   "id": "a9f42a6b",
   "metadata": {},
   "outputs": [
    {
     "data": {
      "image/png": "[encoded data removed]",
      "text/plain": [
       "<Figure size 720x432 with 1 Axes>"
      ]
     },
     "metadata": {
      "needs_background": "light"
     },
     "output_type": "display_data"
    }
   ],
   "source": [
    "plt.figure(figsize=(10,6))\n",
    "sns.countplot(x=df['relationship'],hue=df['salary'],palette='viridis',saturation=0.9,edgecolor=\"black\")\n",
    "plt.tight_layout()\n",
    "plt.grid(True)\n",
    "plt.show()"
   ]
  },
  {
   "cell_type": "markdown",
   "id": "15387559",
   "metadata": {},
   "source": [
    "The above shows the same results as the marital status in which the married people has high earning potentials, as here its represents the husband category."
   ]
  },
  {
   "cell_type": "markdown",
   "id": "0ff3eafd",
   "metadata": {},
   "source": [
    "__Relationship with the Sex and the Salary factor__"
   ]
  },
  {
   "cell_type": "code",
   "execution_count": 20,
   "id": "86d6c62d",
   "metadata": {},
   "outputs": [
    {
     "data": {
      "image/png": "[encoded data removed]",
      "text/plain": [
       "<Figure size 720x432 with 1 Axes>"
      ]
     },
     "metadata": {
      "needs_background": "light"
     },
     "output_type": "display_data"
    }
   ],
   "source": [
    "plt.figure(figsize=(10,6))\n",
    "sns.countplot(x=df['sex'],hue=df['salary'],palette='viridis',saturation=0.9,edgecolor=\"black\")\n",
    "plt.tight_layout()\n",
    "plt.grid(True)\n",
    "plt.show()"
   ]
  },
  {
   "cell_type": "markdown",
   "id": "c9256533",
   "metadata": {},
   "source": [
    "The proportion of males who make more than 50,000 is a good deal greater than the percentage of Female, that make the identical outcome. This can certainly be a sizable aspect, and must be a feature taken into consideration in our prediction model."
   ]
  },
  {
   "cell_type": "code",
   "execution_count": null,
   "id": "75c0fb81",
   "metadata": {},
   "outputs": [],
   "source": []
  },
  {
   "cell_type": "code",
   "execution_count": 21,
   "id": "867722a5",
   "metadata": {
    "scrolled": true
   },
   "outputs": [
    {
     "data": {
      "image/png": "[encoded data removed]",
      "text/plain": [
       "<Figure size 1440x720 with 1 Axes>"
      ]
     },
     "metadata": {
      "needs_background": "light"
     },
     "output_type": "display_data"
    }
   ],
   "source": [
    "plt.figure(figsize=(20,10))\n",
    "sns.countplot(x=df['hours-per-week'],hue=df['salary'],palette='viridis',saturation=0.9,edgecolor=\"black\",)\n",
    "plt.tight_layout()\n",
    "plt.grid(True)\n",
    "plt.show()"
   ]
  },
  {
   "cell_type": "markdown",
   "id": "c26ffc39",
   "metadata": {},
   "source": [
    "From the above graph we say that data is showing a high precision on the 40 hours per week for both the salary trends of the people. And the earning has increased with increase in the working hours."
   ]
  },
  {
   "cell_type": "code",
   "execution_count": null,
   "id": "d3a9af2e",
   "metadata": {},
   "outputs": [],
   "source": []
  },
  {
   "cell_type": "code",
   "execution_count": 22,
   "id": "ce7694d8",
   "metadata": {},
   "outputs": [
    {
     "data": {
      "image/png": "[encoded data removed]",
      "text/plain": [
       "<Figure size 720x432 with 1 Axes>"
      ]
     },
     "metadata": {
      "needs_background": "light"
     },
     "output_type": "display_data"
    }
   ],
   "source": [
    "plt.figure(figsize=(10,6))\n",
    "sns.countplot(y=df['country'], hue=df['salary'],palette='viridis',saturation=0.9,edgecolor=\"black\")\n",
    "plt.tight_layout()\n",
    "plt.grid(True)\n",
    "plt.show()"
   ]
  },
  {
   "cell_type": "markdown",
   "id": "7d351c9d",
   "metadata": {},
   "source": [
    "From the above graph most of the people are from USA, so we can drop this feature from our dataset, to improve the prediction results. Then we can go ahead and do the feature engineer to proceed which the evaluation."
   ]
  },
  {
   "cell_type": "markdown",
   "id": "7cec7fb2",
   "metadata": {},
   "source": [
    "# Feature Engineering\n",
    "As in the data most of the features are in form of categorical data, will need to implent label encoding to train the machine as the classfication data points to apply the final model."
   ]
  },
  {
   "cell_type": "code",
   "execution_count": 29,
   "id": "ba8bc096",
   "metadata": {},
   "outputs": [],
   "source": [
    "from sklearn.preprocessing import LabelEncoder\n",
    "for col in df.columns:\n",
    "    if df[col].dtypes == 'object':\n",
    "        le = LabelEncoder()\n",
    "        \n",
    "        df[col] = le.fit_transform(df[col].astype(str))"
   ]
  },
  {
   "cell_type": "code",
   "execution_count": 30,
   "id": "7bc307a0",
   "metadata": {},
   "outputs": [
    {
     "data": {
      "text/html": [
       "<div>\n",
       "<style scoped>\n",
       "    .dataframe tbody tr th:only-of-type {\n",
       "        vertical-align: middle;\n",
       "    }\n",
       "\n",
       "    .dataframe tbody tr th {\n",
       "        vertical-align: top;\n",
       "    }\n",
       "\n",
       "    .dataframe thead th {\n",
       "        text-align: right;\n",
       "    }\n",
       "</style>\n",
       "<table border=\"1\" class=\"dataframe\">\n",
       "  <thead>\n",
       "    <tr style=\"text-align: right;\">\n",
       "      <th></th>\n",
       "      <th>age</th>\n",
       "      <th>workclass</th>\n",
       "      <th>fnlwgt</th>\n",
       "      <th>education</th>\n",
       "      <th>education-num</th>\n",
       "      <th>marital-status</th>\n",
       "      <th>occupation</th>\n",
       "      <th>relationship</th>\n",
       "      <th>race</th>\n",
       "      <th>sex</th>\n",
       "      <th>capital-gain</th>\n",
       "      <th>capital-loss</th>\n",
       "      <th>hours-per-week</th>\n",
       "      <th>country</th>\n",
       "      <th>salary</th>\n",
       "    </tr>\n",
       "  </thead>\n",
       "  <tbody>\n",
       "    <tr>\n",
       "      <th>0</th>\n",
       "      <td>39</td>\n",
       "      <td>6</td>\n",
       "      <td>77516</td>\n",
       "      <td>9</td>\n",
       "      <td>13</td>\n",
       "      <td>4</td>\n",
       "      <td>0</td>\n",
       "      <td>1</td>\n",
       "      <td>4</td>\n",
       "      <td>1</td>\n",
       "      <td>2174</td>\n",
       "      <td>0</td>\n",
       "      <td>40</td>\n",
       "      <td>38</td>\n",
       "      <td>0</td>\n",
       "    </tr>\n",
       "    <tr>\n",
       "      <th>1</th>\n",
       "      <td>50</td>\n",
       "      <td>5</td>\n",
       "      <td>83311</td>\n",
       "      <td>9</td>\n",
       "      <td>13</td>\n",
       "      <td>2</td>\n",
       "      <td>3</td>\n",
       "      <td>0</td>\n",
       "      <td>4</td>\n",
       "      <td>1</td>\n",
       "      <td>0</td>\n",
       "      <td>0</td>\n",
       "      <td>13</td>\n",
       "      <td>38</td>\n",
       "      <td>0</td>\n",
       "    </tr>\n",
       "    <tr>\n",
       "      <th>2</th>\n",
       "      <td>38</td>\n",
       "      <td>3</td>\n",
       "      <td>215646</td>\n",
       "      <td>11</td>\n",
       "      <td>9</td>\n",
       "      <td>0</td>\n",
       "      <td>5</td>\n",
       "      <td>1</td>\n",
       "      <td>4</td>\n",
       "      <td>1</td>\n",
       "      <td>0</td>\n",
       "      <td>0</td>\n",
       "      <td>40</td>\n",
       "      <td>38</td>\n",
       "      <td>0</td>\n",
       "    </tr>\n",
       "    <tr>\n",
       "      <th>3</th>\n",
       "      <td>53</td>\n",
       "      <td>3</td>\n",
       "      <td>234721</td>\n",
       "      <td>1</td>\n",
       "      <td>7</td>\n",
       "      <td>2</td>\n",
       "      <td>5</td>\n",
       "      <td>0</td>\n",
       "      <td>2</td>\n",
       "      <td>1</td>\n",
       "      <td>0</td>\n",
       "      <td>0</td>\n",
       "      <td>40</td>\n",
       "      <td>38</td>\n",
       "      <td>0</td>\n",
       "    </tr>\n",
       "    <tr>\n",
       "      <th>4</th>\n",
       "      <td>28</td>\n",
       "      <td>3</td>\n",
       "      <td>338409</td>\n",
       "      <td>9</td>\n",
       "      <td>13</td>\n",
       "      <td>2</td>\n",
       "      <td>9</td>\n",
       "      <td>5</td>\n",
       "      <td>2</td>\n",
       "      <td>0</td>\n",
       "      <td>0</td>\n",
       "      <td>0</td>\n",
       "      <td>40</td>\n",
       "      <td>4</td>\n",
       "      <td>0</td>\n",
       "    </tr>\n",
       "    <tr>\n",
       "      <th>5</th>\n",
       "      <td>37</td>\n",
       "      <td>3</td>\n",
       "      <td>284582</td>\n",
       "      <td>12</td>\n",
       "      <td>14</td>\n",
       "      <td>2</td>\n",
       "      <td>3</td>\n",
       "      <td>5</td>\n",
       "      <td>4</td>\n",
       "      <td>0</td>\n",
       "      <td>0</td>\n",
       "      <td>0</td>\n",
       "      <td>40</td>\n",
       "      <td>38</td>\n",
       "      <td>0</td>\n",
       "    </tr>\n",
       "    <tr>\n",
       "      <th>6</th>\n",
       "      <td>49</td>\n",
       "      <td>3</td>\n",
       "      <td>160187</td>\n",
       "      <td>6</td>\n",
       "      <td>5</td>\n",
       "      <td>3</td>\n",
       "      <td>7</td>\n",
       "      <td>1</td>\n",
       "      <td>2</td>\n",
       "      <td>0</td>\n",
       "      <td>0</td>\n",
       "      <td>0</td>\n",
       "      <td>16</td>\n",
       "      <td>22</td>\n",
       "      <td>0</td>\n",
       "    </tr>\n",
       "    <tr>\n",
       "      <th>7</th>\n",
       "      <td>52</td>\n",
       "      <td>5</td>\n",
       "      <td>209642</td>\n",
       "      <td>11</td>\n",
       "      <td>9</td>\n",
       "      <td>2</td>\n",
       "      <td>3</td>\n",
       "      <td>0</td>\n",
       "      <td>4</td>\n",
       "      <td>1</td>\n",
       "      <td>0</td>\n",
       "      <td>0</td>\n",
       "      <td>45</td>\n",
       "      <td>38</td>\n",
       "      <td>1</td>\n",
       "    </tr>\n",
       "    <tr>\n",
       "      <th>8</th>\n",
       "      <td>31</td>\n",
       "      <td>3</td>\n",
       "      <td>45781</td>\n",
       "      <td>12</td>\n",
       "      <td>14</td>\n",
       "      <td>4</td>\n",
       "      <td>9</td>\n",
       "      <td>1</td>\n",
       "      <td>4</td>\n",
       "      <td>0</td>\n",
       "      <td>14084</td>\n",
       "      <td>0</td>\n",
       "      <td>50</td>\n",
       "      <td>38</td>\n",
       "      <td>1</td>\n",
       "    </tr>\n",
       "    <tr>\n",
       "      <th>9</th>\n",
       "      <td>42</td>\n",
       "      <td>3</td>\n",
       "      <td>159449</td>\n",
       "      <td>9</td>\n",
       "      <td>13</td>\n",
       "      <td>2</td>\n",
       "      <td>3</td>\n",
       "      <td>0</td>\n",
       "      <td>4</td>\n",
       "      <td>1</td>\n",
       "      <td>5178</td>\n",
       "      <td>0</td>\n",
       "      <td>40</td>\n",
       "      <td>38</td>\n",
       "      <td>1</td>\n",
       "    </tr>\n",
       "  </tbody>\n",
       "</table>\n",
       "</div>"
      ],
      "text/plain": [
       "   age  workclass  fnlwgt  education  education-num  marital-status  \\\n",
       "0   39          6   77516          9             13               4   \n",
       "1   50          5   83311          9             13               2   \n",
       "2   38          3  215646         11              9               0   \n",
       "3   53          3  234721          1              7               2   \n",
       "4   28          3  338409          9             13               2   \n",
       "5   37          3  284582         12             14               2   \n",
       "6   49          3  160187          6              5               3   \n",
       "7   52          5  209642         11              9               2   \n",
       "8   31          3   45781         12             14               4   \n",
       "9   42          3  159449          9             13               2   \n",
       "\n",
       "   occupation  relationship  race  sex  capital-gain  capital-loss  \\\n",
       "0           0             1     4    1          2174             0   \n",
       "1           3             0     4    1             0             0   \n",
       "2           5             1     4    1             0             0   \n",
       "3           5             0     2    1             0             0   \n",
       "4           9             5     2    0             0             0   \n",
       "5           3             5     4    0             0             0   \n",
       "6           7             1     2    0             0             0   \n",
       "7           3             0     4    1             0             0   \n",
       "8           9             1     4    0         14084             0   \n",
       "9           3             0     4    1          5178             0   \n",
       "\n",
       "   hours-per-week  country  salary  \n",
       "0              40       38       0  \n",
       "1              13       38       0  \n",
       "2              40       38       0  \n",
       "3              40       38       0  \n",
       "4              40        4       0  \n",
       "5              40       38       0  \n",
       "6              16       22       0  \n",
       "7              45       38       1  \n",
       "8              50       38       1  \n",
       "9              40       38       1  "
      ]
     },
     "execution_count": 30,
     "metadata": {},
     "output_type": "execute_result"
    }
   ],
   "source": [
    "df.head(10)"
   ]
  },
  {
   "cell_type": "code",
   "execution_count": 31,
   "id": "d201ca41",
   "metadata": {},
   "outputs": [
    {
     "data": {
      "text/html": [
       "<div>\n",
       "<style scoped>\n",
       "    .dataframe tbody tr th:only-of-type {\n",
       "        vertical-align: middle;\n",
       "    }\n",
       "\n",
       "    .dataframe tbody tr th {\n",
       "        vertical-align: top;\n",
       "    }\n",
       "\n",
       "    .dataframe thead th {\n",
       "        text-align: right;\n",
       "    }\n",
       "</style>\n",
       "<table border=\"1\" class=\"dataframe\">\n",
       "  <thead>\n",
       "    <tr style=\"text-align: right;\">\n",
       "      <th></th>\n",
       "      <th>age</th>\n",
       "      <th>workclass</th>\n",
       "      <th>fnlwgt</th>\n",
       "      <th>education</th>\n",
       "      <th>education-num</th>\n",
       "      <th>marital-status</th>\n",
       "      <th>occupation</th>\n",
       "      <th>relationship</th>\n",
       "      <th>race</th>\n",
       "      <th>sex</th>\n",
       "      <th>capital-gain</th>\n",
       "      <th>capital-loss</th>\n",
       "      <th>hours-per-week</th>\n",
       "      <th>country</th>\n",
       "      <th>salary</th>\n",
       "    </tr>\n",
       "  </thead>\n",
       "  <tbody>\n",
       "    <tr>\n",
       "      <th>age</th>\n",
       "      <td>1.000000</td>\n",
       "      <td>0.040504</td>\n",
       "      <td>-0.076646</td>\n",
       "      <td>-0.010508</td>\n",
       "      <td>0.036527</td>\n",
       "      <td>-0.266288</td>\n",
       "      <td>0.001739</td>\n",
       "      <td>-0.263698</td>\n",
       "      <td>0.028718</td>\n",
       "      <td>0.088832</td>\n",
       "      <td>0.077674</td>\n",
       "      <td>0.057775</td>\n",
       "      <td>0.068756</td>\n",
       "      <td>-0.000270</td>\n",
       "      <td>0.234037</td>\n",
       "    </tr>\n",
       "    <tr>\n",
       "      <th>workclass</th>\n",
       "      <td>0.040504</td>\n",
       "      <td>1.000000</td>\n",
       "      <td>-0.024338</td>\n",
       "      <td>0.004874</td>\n",
       "      <td>0.003536</td>\n",
       "      <td>-0.020468</td>\n",
       "      <td>0.007110</td>\n",
       "      <td>-0.057947</td>\n",
       "      <td>0.048350</td>\n",
       "      <td>0.071584</td>\n",
       "      <td>0.031505</td>\n",
       "      <td>0.002644</td>\n",
       "      <td>0.042199</td>\n",
       "      <td>-0.001625</td>\n",
       "      <td>0.002693</td>\n",
       "    </tr>\n",
       "    <tr>\n",
       "      <th>fnlwgt</th>\n",
       "      <td>-0.076646</td>\n",
       "      <td>-0.024338</td>\n",
       "      <td>1.000000</td>\n",
       "      <td>-0.028145</td>\n",
       "      <td>-0.043195</td>\n",
       "      <td>0.028153</td>\n",
       "      <td>0.000188</td>\n",
       "      <td>0.008931</td>\n",
       "      <td>-0.021291</td>\n",
       "      <td>0.026858</td>\n",
       "      <td>0.000432</td>\n",
       "      <td>-0.010252</td>\n",
       "      <td>-0.018768</td>\n",
       "      <td>-0.063286</td>\n",
       "      <td>-0.009463</td>\n",
       "    </tr>\n",
       "    <tr>\n",
       "      <th>education</th>\n",
       "      <td>-0.010508</td>\n",
       "      <td>0.004874</td>\n",
       "      <td>-0.028145</td>\n",
       "      <td>1.000000</td>\n",
       "      <td>0.359153</td>\n",
       "      <td>-0.038407</td>\n",
       "      <td>-0.041279</td>\n",
       "      <td>-0.010876</td>\n",
       "      <td>0.014131</td>\n",
       "      <td>-0.027356</td>\n",
       "      <td>0.030046</td>\n",
       "      <td>0.016746</td>\n",
       "      <td>0.055510</td>\n",
       "      <td>0.076060</td>\n",
       "      <td>0.079317</td>\n",
       "    </tr>\n",
       "    <tr>\n",
       "      <th>education-num</th>\n",
       "      <td>0.036527</td>\n",
       "      <td>0.003536</td>\n",
       "      <td>-0.043195</td>\n",
       "      <td>0.359153</td>\n",
       "      <td>1.000000</td>\n",
       "      <td>-0.069304</td>\n",
       "      <td>0.070954</td>\n",
       "      <td>-0.094153</td>\n",
       "      <td>0.031838</td>\n",
       "      <td>0.012280</td>\n",
       "      <td>0.122630</td>\n",
       "      <td>0.079923</td>\n",
       "      <td>0.148123</td>\n",
       "      <td>0.088894</td>\n",
       "      <td>0.335154</td>\n",
       "    </tr>\n",
       "    <tr>\n",
       "      <th>marital-status</th>\n",
       "      <td>-0.266288</td>\n",
       "      <td>-0.020468</td>\n",
       "      <td>0.028153</td>\n",
       "      <td>-0.038407</td>\n",
       "      <td>-0.069304</td>\n",
       "      <td>1.000000</td>\n",
       "      <td>0.034962</td>\n",
       "      <td>0.185451</td>\n",
       "      <td>-0.068013</td>\n",
       "      <td>-0.129314</td>\n",
       "      <td>-0.043393</td>\n",
       "      <td>-0.034187</td>\n",
       "      <td>-0.190519</td>\n",
       "      <td>-0.021278</td>\n",
       "      <td>-0.199307</td>\n",
       "    </tr>\n",
       "    <tr>\n",
       "      <th>occupation</th>\n",
       "      <td>0.001739</td>\n",
       "      <td>0.007110</td>\n",
       "      <td>0.000188</td>\n",
       "      <td>-0.041279</td>\n",
       "      <td>0.070954</td>\n",
       "      <td>0.034962</td>\n",
       "      <td>1.000000</td>\n",
       "      <td>-0.037451</td>\n",
       "      <td>-0.004839</td>\n",
       "      <td>0.047461</td>\n",
       "      <td>0.018021</td>\n",
       "      <td>0.009680</td>\n",
       "      <td>-0.012879</td>\n",
       "      <td>-0.002217</td>\n",
       "      <td>0.034625</td>\n",
       "    </tr>\n",
       "    <tr>\n",
       "      <th>relationship</th>\n",
       "      <td>-0.263698</td>\n",
       "      <td>-0.057947</td>\n",
       "      <td>0.008931</td>\n",
       "      <td>-0.010876</td>\n",
       "      <td>-0.094153</td>\n",
       "      <td>0.185451</td>\n",
       "      <td>-0.037451</td>\n",
       "      <td>1.000000</td>\n",
       "      <td>-0.116055</td>\n",
       "      <td>-0.582454</td>\n",
       "      <td>-0.057919</td>\n",
       "      <td>-0.061062</td>\n",
       "      <td>-0.248974</td>\n",
       "      <td>-0.010712</td>\n",
       "      <td>-0.250918</td>\n",
       "    </tr>\n",
       "    <tr>\n",
       "      <th>race</th>\n",
       "      <td>0.028718</td>\n",
       "      <td>0.048350</td>\n",
       "      <td>-0.021291</td>\n",
       "      <td>0.014131</td>\n",
       "      <td>0.031838</td>\n",
       "      <td>-0.068013</td>\n",
       "      <td>-0.004839</td>\n",
       "      <td>-0.116055</td>\n",
       "      <td>1.000000</td>\n",
       "      <td>0.087204</td>\n",
       "      <td>0.011145</td>\n",
       "      <td>0.018899</td>\n",
       "      <td>0.041910</td>\n",
       "      <td>0.116529</td>\n",
       "      <td>0.071846</td>\n",
       "    </tr>\n",
       "    <tr>\n",
       "      <th>sex</th>\n",
       "      <td>0.088832</td>\n",
       "      <td>0.071584</td>\n",
       "      <td>0.026858</td>\n",
       "      <td>-0.027356</td>\n",
       "      <td>0.012280</td>\n",
       "      <td>-0.129314</td>\n",
       "      <td>0.047461</td>\n",
       "      <td>-0.582454</td>\n",
       "      <td>0.087204</td>\n",
       "      <td>1.000000</td>\n",
       "      <td>0.048480</td>\n",
       "      <td>0.045567</td>\n",
       "      <td>0.229309</td>\n",
       "      <td>0.002061</td>\n",
       "      <td>0.215980</td>\n",
       "    </tr>\n",
       "    <tr>\n",
       "      <th>capital-gain</th>\n",
       "      <td>0.077674</td>\n",
       "      <td>0.031505</td>\n",
       "      <td>0.000432</td>\n",
       "      <td>0.030046</td>\n",
       "      <td>0.122630</td>\n",
       "      <td>-0.043393</td>\n",
       "      <td>0.018021</td>\n",
       "      <td>-0.057919</td>\n",
       "      <td>0.011145</td>\n",
       "      <td>0.048480</td>\n",
       "      <td>1.000000</td>\n",
       "      <td>-0.031615</td>\n",
       "      <td>0.078409</td>\n",
       "      <td>0.008819</td>\n",
       "      <td>0.223329</td>\n",
       "    </tr>\n",
       "    <tr>\n",
       "      <th>capital-loss</th>\n",
       "      <td>0.057775</td>\n",
       "      <td>0.002644</td>\n",
       "      <td>-0.010252</td>\n",
       "      <td>0.016746</td>\n",
       "      <td>0.079923</td>\n",
       "      <td>-0.034187</td>\n",
       "      <td>0.009680</td>\n",
       "      <td>-0.061062</td>\n",
       "      <td>0.018899</td>\n",
       "      <td>0.045567</td>\n",
       "      <td>-0.031615</td>\n",
       "      <td>1.000000</td>\n",
       "      <td>0.054256</td>\n",
       "      <td>0.009401</td>\n",
       "      <td>0.150526</td>\n",
       "    </tr>\n",
       "    <tr>\n",
       "      <th>hours-per-week</th>\n",
       "      <td>0.068756</td>\n",
       "      <td>0.042199</td>\n",
       "      <td>-0.018768</td>\n",
       "      <td>0.055510</td>\n",
       "      <td>0.148123</td>\n",
       "      <td>-0.190519</td>\n",
       "      <td>-0.012879</td>\n",
       "      <td>-0.248974</td>\n",
       "      <td>0.041910</td>\n",
       "      <td>0.229309</td>\n",
       "      <td>0.078409</td>\n",
       "      <td>0.054256</td>\n",
       "      <td>1.000000</td>\n",
       "      <td>0.006592</td>\n",
       "      <td>0.229689</td>\n",
       "    </tr>\n",
       "    <tr>\n",
       "      <th>country</th>\n",
       "      <td>-0.000270</td>\n",
       "      <td>-0.001625</td>\n",
       "      <td>-0.063286</td>\n",
       "      <td>0.076060</td>\n",
       "      <td>0.088894</td>\n",
       "      <td>-0.021278</td>\n",
       "      <td>-0.002217</td>\n",
       "      <td>-0.010712</td>\n",
       "      <td>0.116529</td>\n",
       "      <td>0.002061</td>\n",
       "      <td>0.008819</td>\n",
       "      <td>0.009401</td>\n",
       "      <td>0.006592</td>\n",
       "      <td>1.000000</td>\n",
       "      <td>0.023058</td>\n",
       "    </tr>\n",
       "    <tr>\n",
       "      <th>salary</th>\n",
       "      <td>0.234037</td>\n",
       "      <td>0.002693</td>\n",
       "      <td>-0.009463</td>\n",
       "      <td>0.079317</td>\n",
       "      <td>0.335154</td>\n",
       "      <td>-0.199307</td>\n",
       "      <td>0.034625</td>\n",
       "      <td>-0.250918</td>\n",
       "      <td>0.071846</td>\n",
       "      <td>0.215980</td>\n",
       "      <td>0.223329</td>\n",
       "      <td>0.150526</td>\n",
       "      <td>0.229689</td>\n",
       "      <td>0.023058</td>\n",
       "      <td>1.000000</td>\n",
       "    </tr>\n",
       "  </tbody>\n",
       "</table>\n",
       "</div>"
      ],
      "text/plain": [
       "                     age  workclass    fnlwgt  education  education-num  \\\n",
       "age             1.000000   0.040504 -0.076646  -0.010508       0.036527   \n",
       "workclass       0.040504   1.000000 -0.024338   0.004874       0.003536   \n",
       "fnlwgt         -0.076646  -0.024338  1.000000  -0.028145      -0.043195   \n",
       "education      -0.010508   0.004874 -0.028145   1.000000       0.359153   \n",
       "education-num   0.036527   0.003536 -0.043195   0.359153       1.000000   \n",
       "marital-status -0.266288  -0.020468  0.028153  -0.038407      -0.069304   \n",
       "occupation      0.001739   0.007110  0.000188  -0.041279       0.070954   \n",
       "relationship   -0.263698  -0.057947  0.008931  -0.010876      -0.094153   \n",
       "race            0.028718   0.048350 -0.021291   0.014131       0.031838   \n",
       "sex             0.088832   0.071584  0.026858  -0.027356       0.012280   \n",
       "capital-gain    0.077674   0.031505  0.000432   0.030046       0.122630   \n",
       "capital-loss    0.057775   0.002644 -0.010252   0.016746       0.079923   \n",
       "hours-per-week  0.068756   0.042199 -0.018768   0.055510       0.148123   \n",
       "country        -0.000270  -0.001625 -0.063286   0.076060       0.088894   \n",
       "salary          0.234037   0.002693 -0.009463   0.079317       0.335154   \n",
       "\n",
       "                marital-status  occupation  relationship      race       sex  \\\n",
       "age                  -0.266288    0.001739     -0.263698  0.028718  0.088832   \n",
       "workclass            -0.020468    0.007110     -0.057947  0.048350  0.071584   \n",
       "fnlwgt                0.028153    0.000188      0.008931 -0.021291  0.026858   \n",
       "education            -0.038407   -0.041279     -0.010876  0.014131 -0.027356   \n",
       "education-num        -0.069304    0.070954     -0.094153  0.031838  0.012280   \n",
       "marital-status        1.000000    0.034962      0.185451 -0.068013 -0.129314   \n",
       "occupation            0.034962    1.000000     -0.037451 -0.004839  0.047461   \n",
       "relationship          0.185451   -0.037451      1.000000 -0.116055 -0.582454   \n",
       "race                 -0.068013   -0.004839     -0.116055  1.000000  0.087204   \n",
       "sex                  -0.129314    0.047461     -0.582454  0.087204  1.000000   \n",
       "capital-gain         -0.043393    0.018021     -0.057919  0.011145  0.048480   \n",
       "capital-loss         -0.034187    0.009680     -0.061062  0.018899  0.045567   \n",
       "hours-per-week       -0.190519   -0.012879     -0.248974  0.041910  0.229309   \n",
       "country              -0.021278   -0.002217     -0.010712  0.116529  0.002061   \n",
       "salary               -0.199307    0.034625     -0.250918  0.071846  0.215980   \n",
       "\n",
       "                capital-gain  capital-loss  hours-per-week   country    salary  \n",
       "age                 0.077674      0.057775        0.068756 -0.000270  0.234037  \n",
       "workclass           0.031505      0.002644        0.042199 -0.001625  0.002693  \n",
       "fnlwgt              0.000432     -0.010252       -0.018768 -0.063286 -0.009463  \n",
       "education           0.030046      0.016746        0.055510  0.076060  0.079317  \n",
       "education-num       0.122630      0.079923        0.148123  0.088894  0.335154  \n",
       "marital-status     -0.043393     -0.034187       -0.190519 -0.021278 -0.199307  \n",
       "occupation          0.018021      0.009680       -0.012879 -0.002217  0.034625  \n",
       "relationship       -0.057919     -0.061062       -0.248974 -0.010712 -0.250918  \n",
       "race                0.011145      0.018899        0.041910  0.116529  0.071846  \n",
       "sex                 0.048480      0.045567        0.229309  0.002061  0.215980  \n",
       "capital-gain        1.000000     -0.031615        0.078409  0.008819  0.223329  \n",
       "capital-loss       -0.031615      1.000000        0.054256  0.009401  0.150526  \n",
       "hours-per-week      0.078409      0.054256        1.000000  0.006592  0.229689  \n",
       "country             0.008819      0.009401        0.006592  1.000000  0.023058  \n",
       "salary              0.223329      0.150526        0.229689  0.023058  1.000000  "
      ]
     },
     "execution_count": 31,
     "metadata": {},
     "output_type": "execute_result"
    }
   ],
   "source": [
    "df.corr()"
   ]
  },
  {
   "cell_type": "code",
   "execution_count": 32,
   "id": "868f67c2",
   "metadata": {},
   "outputs": [
    {
     "name": "stderr",
     "output_type": "stream",
     "text": [
      "No artists with labels found to put in legend.  Note that artists whose label start with an underscore are ignored when legend() is called with no argument.\n"
     ]
    },
    {
     "data": {
      "text/plain": [
       "<matplotlib.legend.Legend at 0x209f42137f0>"
      ]
     },
     "execution_count": 32,
     "metadata": {},
     "output_type": "execute_result"
    },
    {
     "data": {
      "image/png": "[encoded data removed]",
      "text/plain": [
       "<Figure size 864x720 with 2 Axes>"
      ]
     },
     "metadata": {
      "needs_background": "light"
     },
     "output_type": "display_data"
    }
   ],
   "source": [
    "plt.figure(figsize = (12,10))\n",
    "plt.title(\"Correlation between different features of the dataset\", fontsize = 18, fontweight = 'bold')\n",
    "sns.heatmap(df.corr(), cmap = 'Greens_r', annot = True)\n",
    "plt.xticks(fontsize=12, rotation = 90)\n",
    "plt.yticks(fontsize=12, rotation = 90)\n",
    "plt.legend(fontsize=12)"
   ]
  },
  {
   "cell_type": "markdown",
   "id": "20cf50e8",
   "metadata": {},
   "source": [
    "From the above map we can select the more relational variables with the salary and drop the other features which has less relation with the salary, like fnlwgt, education, marital status, relationship, and country. Now let's drop the feature which is not required by the model."
   ]
  },
  {
   "cell_type": "code",
   "execution_count": 35,
   "id": "dedcabc0",
   "metadata": {},
   "outputs": [],
   "source": [
    "x = df.drop([\"fnlwgt\", \"education\", \"marital-status\", \"relationship\", \"country\"], axis=1)"
   ]
  },
  {
   "cell_type": "code",
   "execution_count": 38,
   "id": "e35027d1",
   "metadata": {},
   "outputs": [
    {
     "data": {
      "text/html": [
       "<div>\n",
       "<style scoped>\n",
       "    .dataframe tbody tr th:only-of-type {\n",
       "        vertical-align: middle;\n",
       "    }\n",
       "\n",
       "    .dataframe tbody tr th {\n",
       "        vertical-align: top;\n",
       "    }\n",
       "\n",
       "    .dataframe thead th {\n",
       "        text-align: right;\n",
       "    }\n",
       "</style>\n",
       "<table border=\"1\" class=\"dataframe\">\n",
       "  <thead>\n",
       "    <tr style=\"text-align: right;\">\n",
       "      <th></th>\n",
       "      <th>age</th>\n",
       "      <th>workclass</th>\n",
       "      <th>education-num</th>\n",
       "      <th>occupation</th>\n",
       "      <th>race</th>\n",
       "      <th>sex</th>\n",
       "      <th>capital-gain</th>\n",
       "      <th>capital-loss</th>\n",
       "      <th>hours-per-week</th>\n",
       "      <th>salary</th>\n",
       "    </tr>\n",
       "  </thead>\n",
       "  <tbody>\n",
       "    <tr>\n",
       "      <th>0</th>\n",
       "      <td>39</td>\n",
       "      <td>6</td>\n",
       "      <td>13</td>\n",
       "      <td>0</td>\n",
       "      <td>4</td>\n",
       "      <td>1</td>\n",
       "      <td>2174</td>\n",
       "      <td>0</td>\n",
       "      <td>40</td>\n",
       "      <td>0</td>\n",
       "    </tr>\n",
       "    <tr>\n",
       "      <th>1</th>\n",
       "      <td>50</td>\n",
       "      <td>5</td>\n",
       "      <td>13</td>\n",
       "      <td>3</td>\n",
       "      <td>4</td>\n",
       "      <td>1</td>\n",
       "      <td>0</td>\n",
       "      <td>0</td>\n",
       "      <td>13</td>\n",
       "      <td>0</td>\n",
       "    </tr>\n",
       "    <tr>\n",
       "      <th>2</th>\n",
       "      <td>38</td>\n",
       "      <td>3</td>\n",
       "      <td>9</td>\n",
       "      <td>5</td>\n",
       "      <td>4</td>\n",
       "      <td>1</td>\n",
       "      <td>0</td>\n",
       "      <td>0</td>\n",
       "      <td>40</td>\n",
       "      <td>0</td>\n",
       "    </tr>\n",
       "    <tr>\n",
       "      <th>3</th>\n",
       "      <td>53</td>\n",
       "      <td>3</td>\n",
       "      <td>7</td>\n",
       "      <td>5</td>\n",
       "      <td>2</td>\n",
       "      <td>1</td>\n",
       "      <td>0</td>\n",
       "      <td>0</td>\n",
       "      <td>40</td>\n",
       "      <td>0</td>\n",
       "    </tr>\n",
       "    <tr>\n",
       "      <th>4</th>\n",
       "      <td>28</td>\n",
       "      <td>3</td>\n",
       "      <td>13</td>\n",
       "      <td>9</td>\n",
       "      <td>2</td>\n",
       "      <td>0</td>\n",
       "      <td>0</td>\n",
       "      <td>0</td>\n",
       "      <td>40</td>\n",
       "      <td>0</td>\n",
       "    </tr>\n",
       "    <tr>\n",
       "      <th>...</th>\n",
       "      <td>...</td>\n",
       "      <td>...</td>\n",
       "      <td>...</td>\n",
       "      <td>...</td>\n",
       "      <td>...</td>\n",
       "      <td>...</td>\n",
       "      <td>...</td>\n",
       "      <td>...</td>\n",
       "      <td>...</td>\n",
       "      <td>...</td>\n",
       "    </tr>\n",
       "    <tr>\n",
       "      <th>32556</th>\n",
       "      <td>27</td>\n",
       "      <td>3</td>\n",
       "      <td>12</td>\n",
       "      <td>12</td>\n",
       "      <td>4</td>\n",
       "      <td>0</td>\n",
       "      <td>0</td>\n",
       "      <td>0</td>\n",
       "      <td>38</td>\n",
       "      <td>0</td>\n",
       "    </tr>\n",
       "    <tr>\n",
       "      <th>32557</th>\n",
       "      <td>40</td>\n",
       "      <td>3</td>\n",
       "      <td>9</td>\n",
       "      <td>6</td>\n",
       "      <td>4</td>\n",
       "      <td>1</td>\n",
       "      <td>0</td>\n",
       "      <td>0</td>\n",
       "      <td>40</td>\n",
       "      <td>1</td>\n",
       "    </tr>\n",
       "    <tr>\n",
       "      <th>32558</th>\n",
       "      <td>58</td>\n",
       "      <td>3</td>\n",
       "      <td>9</td>\n",
       "      <td>0</td>\n",
       "      <td>4</td>\n",
       "      <td>0</td>\n",
       "      <td>0</td>\n",
       "      <td>0</td>\n",
       "      <td>40</td>\n",
       "      <td>0</td>\n",
       "    </tr>\n",
       "    <tr>\n",
       "      <th>32559</th>\n",
       "      <td>22</td>\n",
       "      <td>3</td>\n",
       "      <td>9</td>\n",
       "      <td>0</td>\n",
       "      <td>4</td>\n",
       "      <td>1</td>\n",
       "      <td>0</td>\n",
       "      <td>0</td>\n",
       "      <td>20</td>\n",
       "      <td>0</td>\n",
       "    </tr>\n",
       "    <tr>\n",
       "      <th>32560</th>\n",
       "      <td>52</td>\n",
       "      <td>4</td>\n",
       "      <td>9</td>\n",
       "      <td>3</td>\n",
       "      <td>4</td>\n",
       "      <td>0</td>\n",
       "      <td>15024</td>\n",
       "      <td>0</td>\n",
       "      <td>40</td>\n",
       "      <td>1</td>\n",
       "    </tr>\n",
       "  </tbody>\n",
       "</table>\n",
       "<p>32561 rows × 10 columns</p>\n",
       "</div>"
      ],
      "text/plain": [
       "       age  workclass  education-num  occupation  race  sex  capital-gain  \\\n",
       "0       39          6             13           0     4    1          2174   \n",
       "1       50          5             13           3     4    1             0   \n",
       "2       38          3              9           5     4    1             0   \n",
       "3       53          3              7           5     2    1             0   \n",
       "4       28          3             13           9     2    0             0   \n",
       "...    ...        ...            ...         ...   ...  ...           ...   \n",
       "32556   27          3             12          12     4    0             0   \n",
       "32557   40          3              9           6     4    1             0   \n",
       "32558   58          3              9           0     4    0             0   \n",
       "32559   22          3              9           0     4    1             0   \n",
       "32560   52          4              9           3     4    0         15024   \n",
       "\n",
       "       capital-loss  hours-per-week  salary  \n",
       "0                 0              40       0  \n",
       "1                 0              13       0  \n",
       "2                 0              40       0  \n",
       "3                 0              40       0  \n",
       "4                 0              40       0  \n",
       "...             ...             ...     ...  \n",
       "32556             0              38       0  \n",
       "32557             0              40       1  \n",
       "32558             0              40       0  \n",
       "32559             0              20       0  \n",
       "32560             0              40       1  \n",
       "\n",
       "[32561 rows x 10 columns]"
      ]
     },
     "execution_count": 38,
     "metadata": {},
     "output_type": "execute_result"
    }
   ],
   "source": [
    "x"
   ]
  },
  {
   "cell_type": "markdown",
   "id": "6fff7296",
   "metadata": {},
   "source": [
    "Now will select the indenpent variables and dependent variable for the model."
   ]
  },
  {
   "cell_type": "code",
   "execution_count": 55,
   "id": "4eace842",
   "metadata": {},
   "outputs": [],
   "source": [
    "X = df.drop(['salary'], axis=1)\n",
    "X\n",
    "Y = df.salary"
   ]
  },
  {
   "cell_type": "code",
   "execution_count": 40,
   "id": "e676e655",
   "metadata": {
    "scrolled": true
   },
   "outputs": [
    {
     "data": {
      "text/html": [
       "<div>\n",
       "<style scoped>\n",
       "    .dataframe tbody tr th:only-of-type {\n",
       "        vertical-align: middle;\n",
       "    }\n",
       "\n",
       "    .dataframe tbody tr th {\n",
       "        vertical-align: top;\n",
       "    }\n",
       "\n",
       "    .dataframe thead th {\n",
       "        text-align: right;\n",
       "    }\n",
       "</style>\n",
       "<table border=\"1\" class=\"dataframe\">\n",
       "  <thead>\n",
       "    <tr style=\"text-align: right;\">\n",
       "      <th></th>\n",
       "      <th>age</th>\n",
       "      <th>workclass</th>\n",
       "      <th>fnlwgt</th>\n",
       "      <th>education</th>\n",
       "      <th>education-num</th>\n",
       "      <th>marital-status</th>\n",
       "      <th>occupation</th>\n",
       "      <th>relationship</th>\n",
       "      <th>race</th>\n",
       "      <th>sex</th>\n",
       "      <th>capital-gain</th>\n",
       "      <th>capital-loss</th>\n",
       "      <th>hours-per-week</th>\n",
       "      <th>country</th>\n",
       "    </tr>\n",
       "  </thead>\n",
       "  <tbody>\n",
       "    <tr>\n",
       "      <th>0</th>\n",
       "      <td>39</td>\n",
       "      <td>6</td>\n",
       "      <td>77516</td>\n",
       "      <td>9</td>\n",
       "      <td>13</td>\n",
       "      <td>4</td>\n",
       "      <td>0</td>\n",
       "      <td>1</td>\n",
       "      <td>4</td>\n",
       "      <td>1</td>\n",
       "      <td>2174</td>\n",
       "      <td>0</td>\n",
       "      <td>40</td>\n",
       "      <td>38</td>\n",
       "    </tr>\n",
       "    <tr>\n",
       "      <th>1</th>\n",
       "      <td>50</td>\n",
       "      <td>5</td>\n",
       "      <td>83311</td>\n",
       "      <td>9</td>\n",
       "      <td>13</td>\n",
       "      <td>2</td>\n",
       "      <td>3</td>\n",
       "      <td>0</td>\n",
       "      <td>4</td>\n",
       "      <td>1</td>\n",
       "      <td>0</td>\n",
       "      <td>0</td>\n",
       "      <td>13</td>\n",
       "      <td>38</td>\n",
       "    </tr>\n",
       "    <tr>\n",
       "      <th>2</th>\n",
       "      <td>38</td>\n",
       "      <td>3</td>\n",
       "      <td>215646</td>\n",
       "      <td>11</td>\n",
       "      <td>9</td>\n",
       "      <td>0</td>\n",
       "      <td>5</td>\n",
       "      <td>1</td>\n",
       "      <td>4</td>\n",
       "      <td>1</td>\n",
       "      <td>0</td>\n",
       "      <td>0</td>\n",
       "      <td>40</td>\n",
       "      <td>38</td>\n",
       "    </tr>\n",
       "    <tr>\n",
       "      <th>3</th>\n",
       "      <td>53</td>\n",
       "      <td>3</td>\n",
       "      <td>234721</td>\n",
       "      <td>1</td>\n",
       "      <td>7</td>\n",
       "      <td>2</td>\n",
       "      <td>5</td>\n",
       "      <td>0</td>\n",
       "      <td>2</td>\n",
       "      <td>1</td>\n",
       "      <td>0</td>\n",
       "      <td>0</td>\n",
       "      <td>40</td>\n",
       "      <td>38</td>\n",
       "    </tr>\n",
       "    <tr>\n",
       "      <th>4</th>\n",
       "      <td>28</td>\n",
       "      <td>3</td>\n",
       "      <td>338409</td>\n",
       "      <td>9</td>\n",
       "      <td>13</td>\n",
       "      <td>2</td>\n",
       "      <td>9</td>\n",
       "      <td>5</td>\n",
       "      <td>2</td>\n",
       "      <td>0</td>\n",
       "      <td>0</td>\n",
       "      <td>0</td>\n",
       "      <td>40</td>\n",
       "      <td>4</td>\n",
       "    </tr>\n",
       "    <tr>\n",
       "      <th>...</th>\n",
       "      <td>...</td>\n",
       "      <td>...</td>\n",
       "      <td>...</td>\n",
       "      <td>...</td>\n",
       "      <td>...</td>\n",
       "      <td>...</td>\n",
       "      <td>...</td>\n",
       "      <td>...</td>\n",
       "      <td>...</td>\n",
       "      <td>...</td>\n",
       "      <td>...</td>\n",
       "      <td>...</td>\n",
       "      <td>...</td>\n",
       "      <td>...</td>\n",
       "    </tr>\n",
       "    <tr>\n",
       "      <th>32556</th>\n",
       "      <td>27</td>\n",
       "      <td>3</td>\n",
       "      <td>257302</td>\n",
       "      <td>7</td>\n",
       "      <td>12</td>\n",
       "      <td>2</td>\n",
       "      <td>12</td>\n",
       "      <td>5</td>\n",
       "      <td>4</td>\n",
       "      <td>0</td>\n",
       "      <td>0</td>\n",
       "      <td>0</td>\n",
       "      <td>38</td>\n",
       "      <td>38</td>\n",
       "    </tr>\n",
       "    <tr>\n",
       "      <th>32557</th>\n",
       "      <td>40</td>\n",
       "      <td>3</td>\n",
       "      <td>154374</td>\n",
       "      <td>11</td>\n",
       "      <td>9</td>\n",
       "      <td>2</td>\n",
       "      <td>6</td>\n",
       "      <td>0</td>\n",
       "      <td>4</td>\n",
       "      <td>1</td>\n",
       "      <td>0</td>\n",
       "      <td>0</td>\n",
       "      <td>40</td>\n",
       "      <td>38</td>\n",
       "    </tr>\n",
       "    <tr>\n",
       "      <th>32558</th>\n",
       "      <td>58</td>\n",
       "      <td>3</td>\n",
       "      <td>151910</td>\n",
       "      <td>11</td>\n",
       "      <td>9</td>\n",
       "      <td>6</td>\n",
       "      <td>0</td>\n",
       "      <td>4</td>\n",
       "      <td>4</td>\n",
       "      <td>0</td>\n",
       "      <td>0</td>\n",
       "      <td>0</td>\n",
       "      <td>40</td>\n",
       "      <td>38</td>\n",
       "    </tr>\n",
       "    <tr>\n",
       "      <th>32559</th>\n",
       "      <td>22</td>\n",
       "      <td>3</td>\n",
       "      <td>201490</td>\n",
       "      <td>11</td>\n",
       "      <td>9</td>\n",
       "      <td>4</td>\n",
       "      <td>0</td>\n",
       "      <td>3</td>\n",
       "      <td>4</td>\n",
       "      <td>1</td>\n",
       "      <td>0</td>\n",
       "      <td>0</td>\n",
       "      <td>20</td>\n",
       "      <td>38</td>\n",
       "    </tr>\n",
       "    <tr>\n",
       "      <th>32560</th>\n",
       "      <td>52</td>\n",
       "      <td>4</td>\n",
       "      <td>287927</td>\n",
       "      <td>11</td>\n",
       "      <td>9</td>\n",
       "      <td>2</td>\n",
       "      <td>3</td>\n",
       "      <td>5</td>\n",
       "      <td>4</td>\n",
       "      <td>0</td>\n",
       "      <td>15024</td>\n",
       "      <td>0</td>\n",
       "      <td>40</td>\n",
       "      <td>38</td>\n",
       "    </tr>\n",
       "  </tbody>\n",
       "</table>\n",
       "<p>32561 rows × 14 columns</p>\n",
       "</div>"
      ],
      "text/plain": [
       "       age  workclass  fnlwgt  education  education-num  marital-status  \\\n",
       "0       39          6   77516          9             13               4   \n",
       "1       50          5   83311          9             13               2   \n",
       "2       38          3  215646         11              9               0   \n",
       "3       53          3  234721          1              7               2   \n",
       "4       28          3  338409          9             13               2   \n",
       "...    ...        ...     ...        ...            ...             ...   \n",
       "32556   27          3  257302          7             12               2   \n",
       "32557   40          3  154374         11              9               2   \n",
       "32558   58          3  151910         11              9               6   \n",
       "32559   22          3  201490         11              9               4   \n",
       "32560   52          4  287927         11              9               2   \n",
       "\n",
       "       occupation  relationship  race  sex  capital-gain  capital-loss  \\\n",
       "0               0             1     4    1          2174             0   \n",
       "1               3             0     4    1             0             0   \n",
       "2               5             1     4    1             0             0   \n",
       "3               5             0     2    1             0             0   \n",
       "4               9             5     2    0             0             0   \n",
       "...           ...           ...   ...  ...           ...           ...   \n",
       "32556          12             5     4    0             0             0   \n",
       "32557           6             0     4    1             0             0   \n",
       "32558           0             4     4    0             0             0   \n",
       "32559           0             3     4    1             0             0   \n",
       "32560           3             5     4    0         15024             0   \n",
       "\n",
       "       hours-per-week  country  \n",
       "0                  40       38  \n",
       "1                  13       38  \n",
       "2                  40       38  \n",
       "3                  40       38  \n",
       "4                  40        4  \n",
       "...               ...      ...  \n",
       "32556              38       38  \n",
       "32557              40       38  \n",
       "32558              40       38  \n",
       "32559              20       38  \n",
       "32560              40       38  \n",
       "\n",
       "[32561 rows x 14 columns]"
      ]
     },
     "execution_count": 40,
     "metadata": {},
     "output_type": "execute_result"
    }
   ],
   "source": [
    "X"
   ]
  },
  {
   "cell_type": "code",
   "execution_count": 57,
   "id": "a284bc47",
   "metadata": {},
   "outputs": [
    {
     "data": {
      "text/plain": [
       "0    24720\n",
       "1     7841\n",
       "Name: salary, dtype: int64"
      ]
     },
     "execution_count": 57,
     "metadata": {},
     "output_type": "execute_result"
    }
   ],
   "source": [
    "Y.value_counts()"
   ]
  },
  {
   "cell_type": "markdown",
   "id": "046eeeab",
   "metadata": {},
   "source": [
    "Balancing the data through SMOTE over sampling technique to balance the outcome variable."
   ]
  },
  {
   "cell_type": "code",
   "execution_count": 44,
   "id": "91cfff63",
   "metadata": {},
   "outputs": [],
   "source": [
    "from imblearn.over_sampling import SMOTE"
   ]
  },
  {
   "cell_type": "code",
   "execution_count": 65,
   "id": "7588e401",
   "metadata": {},
   "outputs": [],
   "source": [
    "sampler = SMOTE()"
   ]
  },
  {
   "cell_type": "code",
   "execution_count": 66,
   "id": "82f9a7f5",
   "metadata": {},
   "outputs": [],
   "source": [
    "xr, yr = sampler.fit_resample(X, Y)"
   ]
  },
  {
   "cell_type": "code",
   "execution_count": 67,
   "id": "e2ea8d86",
   "metadata": {
    "scrolled": true
   },
   "outputs": [
    {
     "data": {
      "text/plain": [
       "0    24720\n",
       "1    24720\n",
       "Name: salary, dtype: int64"
      ]
     },
     "execution_count": 67,
     "metadata": {},
     "output_type": "execute_result"
    }
   ],
   "source": [
    "yr.value_counts()"
   ]
  },
  {
   "cell_type": "markdown",
   "id": "29f45faa",
   "metadata": {},
   "source": [
    "Balanced the skewed data with the SMOTE over-sampling technique, SMOTE (Synthetic Minority Over-sampling Technique), where the synthetic samples are generated for the minority class and distributed among the data points to reduce the noise."
   ]
  },
  {
   "cell_type": "markdown",
   "id": "555acc73",
   "metadata": {},
   "source": [
    "Now the data is balanced through SMOTE, and will fit and test the model for the prediction results."
   ]
  },
  {
   "cell_type": "markdown",
   "id": "c11b5277",
   "metadata": {},
   "source": [
    "# Model Evaluation\n",
    "Trained and tested the model on three classfication models\n",
    "1. __Logistic Regression 2. Random Forest 3. Support Vector Machine (SVM)__\n",
    "* Trained and Tested the models without hyper-parameter tuning."
   ]
  },
  {
   "cell_type": "code",
   "execution_count": 1,
   "id": "ab4a376a",
   "metadata": {},
   "outputs": [],
   "source": [
    "from sklearn.linear_model import LogisticRegression\n",
    "from sklearn.ensemble import RandomForestClassifier\n",
    "from sklearn.svm import SVC\n",
    "from sklearn.model_selection import train_test_split\n",
    "from sklearn.metrics import accuracy_score, classification_report, f1_score"
   ]
  },
  {
   "cell_type": "code",
   "execution_count": 70,
   "id": "a8febc29",
   "metadata": {},
   "outputs": [],
   "source": [
    "xtrain, xtest, ytrain, ytest = train_test_split(xr, yr, test_size=0.3)"
   ]
  },
  {
   "cell_type": "code",
   "execution_count": 104,
   "id": "eeea4457",
   "metadata": {},
   "outputs": [
    {
     "name": "stdout",
     "output_type": "stream",
     "text": [
      "X_train shape: (34608, 14)\n",
      "X_test shape: (14832, 14)\n",
      "y_train shape: (34608,)\n",
      "y_test shape: (14832,)\n"
     ]
    }
   ],
   "source": [
    "print(\"X_train shape:\", xtrain.shape)\n",
    "print(\"X_test shape:\", xtest.shape)\n",
    "print(\"y_train shape:\", ytrain.shape)\n",
    "print(\"y_test shape:\", ytest.shape)"
   ]
  },
  {
   "cell_type": "markdown",
   "id": "d6d554cf",
   "metadata": {},
   "source": [
    "Traning and testing all three models at once, genetaring the scores for the same and then picking the best model."
   ]
  },
  {
   "cell_type": "code",
   "execution_count": 103,
   "id": "88e1e957",
   "metadata": {},
   "outputs": [
    {
     "name": "stdout",
     "output_type": "stream",
     "text": [
      "Logistic Regression\n",
      "Model performance for training set\n",
      "- Accuracy: 0.6646\n",
      "- F1 score: 0.6634\n",
      "- Precision: 0.6868\n",
      "- Recall: 0.6055\n",
      "---------------------------\n",
      "Model performance for test set\n",
      "- Accuracy: 0.6606\n",
      "- F1 score: 0.6596\n",
      "- Precision: 0.6797\n",
      "- Recall: 0.6065\n",
      "===================================\n",
      "\n",
      "\n",
      "Random Forest Classifier\n",
      "Model performance for training set\n",
      "- Accuracy: 1.0000\n",
      "- F1 score: 1.0000\n",
      "- Precision: 1.0000\n",
      "- Recall: 0.9999\n",
      "---------------------------\n",
      "Model performance for test set\n",
      "- Accuracy: 0.8892\n",
      "- F1 score: 0.8892\n",
      "- Precision: 0.8906\n",
      "- Recall: 0.8873\n",
      "===================================\n",
      "\n",
      "\n",
      "Support Vector machine\n",
      "Model performance for training set\n",
      "- Accuracy: 0.5936\n",
      "- F1 score: 0.5203\n",
      "- Precision: 0.9298\n",
      "- Recall: 0.2027\n",
      "---------------------------\n",
      "Model performance for test set\n",
      "- Accuracy: 0.5910\n",
      "- F1 score: 0.5160\n",
      "- Precision: 0.9264\n",
      "- Recall: 0.1971\n",
      "===================================\n",
      "\n",
      "\n"
     ]
    }
   ],
   "source": [
    "models={\n",
    "    \"Logistic Regression\":LogisticRegression(),\n",
    "    \"Random Forest Classifier\": RandomForestClassifier(),\n",
    "    \"Support Vector machine\": SVC()\n",
    "}\n",
    "for i in range(len(list(models))):\n",
    "    model = list(models.values())[i]\n",
    "    model.fit(xtrain, ytrain)\n",
    "    \n",
    "    ytrain_pred = model.predict(xtrain)\n",
    "    ytest_pred = model.predict(xtest)\n",
    "    \n",
    "    \n",
    "    model_train_accuracy = accuracy_score(ytrain,ytrain_pred)\n",
    "    model_train_f1 = f1_score(ytrain,ytrain_pred,average='weighted')\n",
    "    model_train_precision = precision_score(ytrain,ytrain_pred)\n",
    "    model_train_recall = recall_score(ytrain,ytrain_pred)\n",
    "    \n",
    "    \n",
    "    model_test_accuracy = accuracy_score(ytest,ytest_pred)\n",
    "    model_test_f1 = f1_score(ytest,ytest_pred,average='weighted')\n",
    "    model_test_precision = precision_score(ytest,ytest_pred)\n",
    "    model_test_recall = recall_score(ytest,ytest_pred)\n",
    "    \n",
    "    \n",
    "    print(list(models.keys())[i])\n",
    "\n",
    "    print('Model performance for training set')\n",
    "    print(\"- Accuracy: {:.4f}\".format(model_train_accuracy))\n",
    "    print(\"- F1 score: {:.4f}\".format(model_train_f1))\n",
    "\n",
    "    print(\"- Precision: {:.4f}\".format(model_train_precision))\n",
    "    print(\"- Recall: {:.4f}\".format(model_train_recall))\n",
    "\n",
    "    print('---------------------------')\n",
    "\n",
    "    print('Model performance for test set')\n",
    "    print(\"- Accuracy: {:.4f}\".format(model_test_accuracy))\n",
    "    print(\"- F1 score: {:.4f}\".format(model_test_f1))\n",
    "    print(\"- Precision: {:.4f}\".format(model_test_precision))\n",
    "    print(\"- Recall: {:.4f}\".format(model_test_recall))\n",
    "\n",
    "    print('='*35)\n",
    "    print('\\n')\n",
    "    "
   ]
  },
  {
   "cell_type": "markdown",
   "id": "d0168afc",
   "metadata": {},
   "source": [
    "From the above model Logistic regression and Support vector machine has failed to give good scores,\n",
    "Whereas __RandomForestclassifier__ with best results of \n",
    "- Accuracy: 0.8892\n",
    "- F1 score: 0.8892\n",
    "- Precision: 0.8906\n",
    "- Recall: 0.8873.\n",
    "/Hence I will perform hyperparameter tuning on this RandomForest model to increase the accuracy and the scores."
   ]
  },
  {
   "cell_type": "code",
   "execution_count": 105,
   "id": "1af79413",
   "metadata": {},
   "outputs": [],
   "source": [
    "from sklearn.model_selection import RandomizedSearchCV"
   ]
  },
  {
   "cell_type": "code",
   "execution_count": 122,
   "id": "5fb9e24d",
   "metadata": {},
   "outputs": [],
   "source": [
    "rf_params= {\"max_depth\": [int(x) for x in np.linspace(start=40, stop=100, num=7)],\n",
    "           \"min_samples_split\": [2, 7, 8, 10, 18, 20],\n",
    "           \"n_estimators\": [100, 200, 500,]}"
   ]
  },
  {
   "cell_type": "code",
   "execution_count": 123,
   "id": "fca8f099",
   "metadata": {},
   "outputs": [
    {
     "data": {
      "text/plain": [
       "{'max_depth': [40, 50, 60, 70, 80, 90, 100],\n",
       " 'min_samples_split': [2, 7, 8, 10, 18, 20],\n",
       " 'n_estimators': [100, 200, 500]}"
      ]
     },
     "execution_count": 123,
     "metadata": {},
     "output_type": "execute_result"
    }
   ],
   "source": [
    "rf_params"
   ]
  },
  {
   "cell_type": "code",
   "execution_count": 124,
   "id": "10bd8b91",
   "metadata": {},
   "outputs": [],
   "source": [
    "randomcv_models = [(\"RF\", RandomForestClassifier(), rf_params)]"
   ]
  },
  {
   "cell_type": "code",
   "execution_count": 125,
   "id": "9347c2ba",
   "metadata": {},
   "outputs": [
    {
     "data": {
      "text/plain": [
       "[('RF',\n",
       "  RandomForestClassifier(),\n",
       "  {'max_depth': [40, 50, 60, 70, 80, 90, 100],\n",
       "   'min_samples_split': [2, 7, 8, 10, 18, 20],\n",
       "   'n_estimators': [100, 200, 500]})]"
      ]
     },
     "execution_count": 125,
     "metadata": {},
     "output_type": "execute_result"
    }
   ],
   "source": [
    "randomcv_models"
   ]
  },
  {
   "cell_type": "code",
   "execution_count": null,
   "id": "64c43d5c",
   "metadata": {},
   "outputs": [],
   "source": [
    "rf_model = Ra"
   ]
  },
  {
   "cell_type": "code",
   "execution_count": 132,
   "id": "a6ae5efe",
   "metadata": {},
   "outputs": [
    {
     "data": {
      "text/html": [
       "<style>#sk-container-id-5 {color: black;background-color: white;}#sk-container-id-5 pre{padding: 0;}#sk-container-id-5 div.sk-toggleable {background-color: white;}#sk-container-id-5 label.sk-toggleable__label {cursor: pointer;display: block;width: 100%;margin-bottom: 0;padding: 0.3em;box-sizing: border-box;text-align: center;}#sk-container-id-5 label.sk-toggleable__label-arrow:before {content: \"▸\";float: left;margin-right: 0.25em;color: #696969;}#sk-container-id-5 label.sk-toggleable__label-arrow:hover:before {color: black;}#sk-container-id-5 div.sk-estimator:hover label.sk-toggleable__label-arrow:before {color: black;}#sk-container-id-5 div.sk-toggleable__content {max-height: 0;max-width: 0;overflow: hidden;text-align: left;background-color: #f0f8ff;}#sk-container-id-5 div.sk-toggleable__content pre {margin: 0.2em;color: black;border-radius: 0.25em;background-color: #f0f8ff;}#sk-container-id-5 input.sk-toggleable__control:checked~div.sk-toggleable__content {max-height: 200px;max-width: 100%;overflow: auto;}#sk-container-id-5 input.sk-toggleable__control:checked~label.sk-toggleable__label-arrow:before {content: \"▾\";}#sk-container-id-5 div.sk-estimator input.sk-toggleable__control:checked~label.sk-toggleable__label {background-color: #d4ebff;}#sk-container-id-5 div.sk-label input.sk-toggleable__control:checked~label.sk-toggleable__label {background-color: #d4ebff;}#sk-container-id-5 input.sk-hidden--visually {border: 0;clip: rect(1px 1px 1px 1px);clip: rect(1px, 1px, 1px, 1px);height: 1px;margin: -1px;overflow: hidden;padding: 0;position: absolute;width: 1px;}#sk-container-id-5 div.sk-estimator {font-family: monospace;background-color: #f0f8ff;border: 1px dotted black;border-radius: 0.25em;box-sizing: border-box;margin-bottom: 0.5em;}#sk-container-id-5 div.sk-estimator:hover {background-color: #d4ebff;}#sk-container-id-5 div.sk-parallel-item::after {content: \"\";width: 100%;border-bottom: 1px solid gray;flex-grow: 1;}#sk-container-id-5 div.sk-label:hover label.sk-toggleable__label {background-color: #d4ebff;}#sk-container-id-5 div.sk-serial::before {content: \"\";position: absolute;border-left: 1px solid gray;box-sizing: border-box;top: 0;bottom: 0;left: 50%;z-index: 0;}#sk-container-id-5 div.sk-serial {display: flex;flex-direction: column;align-items: center;background-color: white;padding-right: 0.2em;padding-left: 0.2em;position: relative;}#sk-container-id-5 div.sk-item {position: relative;z-index: 1;}#sk-container-id-5 div.sk-parallel {display: flex;align-items: stretch;justify-content: center;background-color: white;position: relative;}#sk-container-id-5 div.sk-item::before, #sk-container-id-5 div.sk-parallel-item::before {content: \"\";position: absolute;border-left: 1px solid gray;box-sizing: border-box;top: 0;bottom: 0;left: 50%;z-index: -1;}#sk-container-id-5 div.sk-parallel-item {display: flex;flex-direction: column;z-index: 1;position: relative;background-color: white;}#sk-container-id-5 div.sk-parallel-item:first-child::after {align-self: flex-end;width: 50%;}#sk-container-id-5 div.sk-parallel-item:last-child::after {align-self: flex-start;width: 50%;}#sk-container-id-5 div.sk-parallel-item:only-child::after {width: 0;}#sk-container-id-5 div.sk-dashed-wrapped {border: 1px dashed gray;margin: 0 0.4em 0.5em 0.4em;box-sizing: border-box;padding-bottom: 0.4em;background-color: white;}#sk-container-id-5 div.sk-label label {font-family: monospace;font-weight: bold;display: inline-block;line-height: 1.2em;}#sk-container-id-5 div.sk-label-container {text-align: center;}#sk-container-id-5 div.sk-container {/* jupyter's `normalize.less` sets `[hidden] { display: none; }` but bootstrap.min.css set `[hidden] { display: none !important; }` so we also need the `!important` here to be able to override the default hidden behavior on the sphinx rendered scikit-learn.org. See: https://github.com/scikit-learn/scikit-learn/issues/21755 */display: inline-block !important;position: relative;}#sk-container-id-5 div.sk-text-repr-fallback {display: none;}</style><div id=\"sk-container-id-5\" class=\"sk-top-container\"><div class=\"sk-text-repr-fallback\"><pre>RandomizedSearchCV(cv=3, estimator=RandomForestClassifier(), n_iter=12,\n",
       "                   n_jobs=-1,\n",
       "                   param_distributions={&#x27;max_depth&#x27;: [40, 50, 60, 70, 80, 90,\n",
       "                                                      100],\n",
       "                                        &#x27;min_samples_split&#x27;: [2, 7, 8, 10, 18,\n",
       "                                                              20],\n",
       "                                        &#x27;n_estimators&#x27;: [100, 200, 500]})</pre><b>In a Jupyter environment, please rerun this cell to show the HTML representation or trust the notebook. <br />On GitHub, the HTML representation is unable to render, please try loading this page with nbviewer.org.</b></div><div class=\"sk-container\" hidden><div class=\"sk-item sk-dashed-wrapped\"><div class=\"sk-label-container\"><div class=\"sk-label sk-toggleable\"><input class=\"sk-toggleable__control sk-hidden--visually\" id=\"sk-estimator-id-7\" type=\"checkbox\" ><label for=\"sk-estimator-id-7\" class=\"sk-toggleable__label sk-toggleable__label-arrow\">RandomizedSearchCV</label><div class=\"sk-toggleable__content\"><pre>RandomizedSearchCV(cv=3, estimator=RandomForestClassifier(), n_iter=12,\n",
       "                   n_jobs=-1,\n",
       "                   param_distributions={&#x27;max_depth&#x27;: [40, 50, 60, 70, 80, 90,\n",
       "                                                      100],\n",
       "                                        &#x27;min_samples_split&#x27;: [2, 7, 8, 10, 18,\n",
       "                                                              20],\n",
       "                                        &#x27;n_estimators&#x27;: [100, 200, 500]})</pre></div></div></div><div class=\"sk-parallel\"><div class=\"sk-parallel-item\"><div class=\"sk-item\"><div class=\"sk-label-container\"><div class=\"sk-label sk-toggleable\"><input class=\"sk-toggleable__control sk-hidden--visually\" id=\"sk-estimator-id-8\" type=\"checkbox\" ><label for=\"sk-estimator-id-8\" class=\"sk-toggleable__label sk-toggleable__label-arrow\">estimator: RandomForestClassifier</label><div class=\"sk-toggleable__content\"><pre>RandomForestClassifier()</pre></div></div></div><div class=\"sk-serial\"><div class=\"sk-item\"><div class=\"sk-estimator sk-toggleable\"><input class=\"sk-toggleable__control sk-hidden--visually\" id=\"sk-estimator-id-9\" type=\"checkbox\" ><label for=\"sk-estimator-id-9\" class=\"sk-toggleable__label sk-toggleable__label-arrow\">RandomForestClassifier</label><div class=\"sk-toggleable__content\"><pre>RandomForestClassifier()</pre></div></div></div></div></div></div></div></div></div></div>"
      ],
      "text/plain": [
       "RandomizedSearchCV(cv=3, estimator=RandomForestClassifier(), n_iter=12,\n",
       "                   n_jobs=-1,\n",
       "                   param_distributions={'max_depth': [40, 50, 60, 70, 80, 90,\n",
       "                                                      100],\n",
       "                                        'min_samples_split': [2, 7, 8, 10, 18,\n",
       "                                                              20],\n",
       "                                        'n_estimators': [100, 200, 500]})"
      ]
     },
     "execution_count": 132,
     "metadata": {},
     "output_type": "execute_result"
    }
   ],
   "source": [
    "random = RandomizedSearchCV(estimator=RandomForestClassifier(),\n",
    "                                   param_distributions=rf_params,\n",
    "                                   n_iter=12,\n",
    "                                   cv=3,\n",
    "                                   n_jobs=-1)\n",
    "random.fit(xtrain, ytrain)"
   ]
  },
  {
   "cell_type": "code",
   "execution_count": 137,
   "id": "3896a97d",
   "metadata": {},
   "outputs": [
    {
     "data": {
      "text/plain": [
       "{'n_estimators': 200, 'min_samples_split': 8, 'max_depth': 100}"
      ]
     },
     "execution_count": 137,
     "metadata": {},
     "output_type": "execute_result"
    }
   ],
   "source": [
    "random.best_params_"
   ]
  },
  {
   "cell_type": "code",
   "execution_count": 138,
   "id": "b7444426",
   "metadata": {},
   "outputs": [
    {
     "data": {
      "text/plain": [
       "0.8914123901987979"
      ]
     },
     "execution_count": 138,
     "metadata": {},
     "output_type": "execute_result"
    }
   ],
   "source": [
    "random.best_score_"
   ]
  },
  {
   "cell_type": "markdown",
   "id": "3307c18a",
   "metadata": {},
   "source": [
    "Now traning the model with the above given parameters to get the best results."
   ]
  },
  {
   "cell_type": "code",
   "execution_count": 139,
   "id": "2e717b50",
   "metadata": {},
   "outputs": [],
   "source": [
    "Final_RF = RandomForestClassifier(n_estimators=200, min_samples_split=8, max_depth=90)"
   ]
  },
  {
   "cell_type": "code",
   "execution_count": 140,
   "id": "2668259f",
   "metadata": {},
   "outputs": [
    {
     "data": {
      "text/html": [
       "<style>#sk-container-id-6 {color: black;background-color: white;}#sk-container-id-6 pre{padding: 0;}#sk-container-id-6 div.sk-toggleable {background-color: white;}#sk-container-id-6 label.sk-toggleable__label {cursor: pointer;display: block;width: 100%;margin-bottom: 0;padding: 0.3em;box-sizing: border-box;text-align: center;}#sk-container-id-6 label.sk-toggleable__label-arrow:before {content: \"▸\";float: left;margin-right: 0.25em;color: #696969;}#sk-container-id-6 label.sk-toggleable__label-arrow:hover:before {color: black;}#sk-container-id-6 div.sk-estimator:hover label.sk-toggleable__label-arrow:before {color: black;}#sk-container-id-6 div.sk-toggleable__content {max-height: 0;max-width: 0;overflow: hidden;text-align: left;background-color: #f0f8ff;}#sk-container-id-6 div.sk-toggleable__content pre {margin: 0.2em;color: black;border-radius: 0.25em;background-color: #f0f8ff;}#sk-container-id-6 input.sk-toggleable__control:checked~div.sk-toggleable__content {max-height: 200px;max-width: 100%;overflow: auto;}#sk-container-id-6 input.sk-toggleable__control:checked~label.sk-toggleable__label-arrow:before {content: \"▾\";}#sk-container-id-6 div.sk-estimator input.sk-toggleable__control:checked~label.sk-toggleable__label {background-color: #d4ebff;}#sk-container-id-6 div.sk-label input.sk-toggleable__control:checked~label.sk-toggleable__label {background-color: #d4ebff;}#sk-container-id-6 input.sk-hidden--visually {border: 0;clip: rect(1px 1px 1px 1px);clip: rect(1px, 1px, 1px, 1px);height: 1px;margin: -1px;overflow: hidden;padding: 0;position: absolute;width: 1px;}#sk-container-id-6 div.sk-estimator {font-family: monospace;background-color: #f0f8ff;border: 1px dotted black;border-radius: 0.25em;box-sizing: border-box;margin-bottom: 0.5em;}#sk-container-id-6 div.sk-estimator:hover {background-color: #d4ebff;}#sk-container-id-6 div.sk-parallel-item::after {content: \"\";width: 100%;border-bottom: 1px solid gray;flex-grow: 1;}#sk-container-id-6 div.sk-label:hover label.sk-toggleable__label {background-color: #d4ebff;}#sk-container-id-6 div.sk-serial::before {content: \"\";position: absolute;border-left: 1px solid gray;box-sizing: border-box;top: 0;bottom: 0;left: 50%;z-index: 0;}#sk-container-id-6 div.sk-serial {display: flex;flex-direction: column;align-items: center;background-color: white;padding-right: 0.2em;padding-left: 0.2em;position: relative;}#sk-container-id-6 div.sk-item {position: relative;z-index: 1;}#sk-container-id-6 div.sk-parallel {display: flex;align-items: stretch;justify-content: center;background-color: white;position: relative;}#sk-container-id-6 div.sk-item::before, #sk-container-id-6 div.sk-parallel-item::before {content: \"\";position: absolute;border-left: 1px solid gray;box-sizing: border-box;top: 0;bottom: 0;left: 50%;z-index: -1;}#sk-container-id-6 div.sk-parallel-item {display: flex;flex-direction: column;z-index: 1;position: relative;background-color: white;}#sk-container-id-6 div.sk-parallel-item:first-child::after {align-self: flex-end;width: 50%;}#sk-container-id-6 div.sk-parallel-item:last-child::after {align-self: flex-start;width: 50%;}#sk-container-id-6 div.sk-parallel-item:only-child::after {width: 0;}#sk-container-id-6 div.sk-dashed-wrapped {border: 1px dashed gray;margin: 0 0.4em 0.5em 0.4em;box-sizing: border-box;padding-bottom: 0.4em;background-color: white;}#sk-container-id-6 div.sk-label label {font-family: monospace;font-weight: bold;display: inline-block;line-height: 1.2em;}#sk-container-id-6 div.sk-label-container {text-align: center;}#sk-container-id-6 div.sk-container {/* jupyter's `normalize.less` sets `[hidden] { display: none; }` but bootstrap.min.css set `[hidden] { display: none !important; }` so we also need the `!important` here to be able to override the default hidden behavior on the sphinx rendered scikit-learn.org. See: https://github.com/scikit-learn/scikit-learn/issues/21755 */display: inline-block !important;position: relative;}#sk-container-id-6 div.sk-text-repr-fallback {display: none;}</style><div id=\"sk-container-id-6\" class=\"sk-top-container\"><div class=\"sk-text-repr-fallback\"><pre>RandomForestClassifier(max_depth=90, min_samples_split=8, n_estimators=200)</pre><b>In a Jupyter environment, please rerun this cell to show the HTML representation or trust the notebook. <br />On GitHub, the HTML representation is unable to render, please try loading this page with nbviewer.org.</b></div><div class=\"sk-container\" hidden><div class=\"sk-item\"><div class=\"sk-estimator sk-toggleable\"><input class=\"sk-toggleable__control sk-hidden--visually\" id=\"sk-estimator-id-10\" type=\"checkbox\" checked><label for=\"sk-estimator-id-10\" class=\"sk-toggleable__label sk-toggleable__label-arrow\">RandomForestClassifier</label><div class=\"sk-toggleable__content\"><pre>RandomForestClassifier(max_depth=90, min_samples_split=8, n_estimators=200)</pre></div></div></div></div></div>"
      ],
      "text/plain": [
       "RandomForestClassifier(max_depth=90, min_samples_split=8, n_estimators=200)"
      ]
     },
     "execution_count": 140,
     "metadata": {},
     "output_type": "execute_result"
    }
   ],
   "source": [
    "Final_RF.fit(xtrain,ytrain)"
   ]
  },
  {
   "cell_type": "code",
   "execution_count": 141,
   "id": "089492b9",
   "metadata": {},
   "outputs": [],
   "source": [
    "Final_RF_pred = Final_RF.predict(xtest)"
   ]
  },
  {
   "cell_type": "code",
   "execution_count": 142,
   "id": "15d9284c",
   "metadata": {},
   "outputs": [],
   "source": [
    "model_test_accuracy = accuracy_score(ytest,Final_RF_pred)\n",
    "model_test_f1 = f1_score(ytest,Final_RF_pred,average='weighted')\n",
    "model_test_precision = precision_score(ytest,Final_RF_pred)\n",
    "model_test_recall = recall_score(ytest,Final_RF_pred)"
   ]
  },
  {
   "cell_type": "code",
   "execution_count": 150,
   "id": "c3f2c8ab",
   "metadata": {},
   "outputs": [
    {
     "name": "stdout",
     "output_type": "stream",
     "text": [
      "Model performance for test set\n",
      "- Accuracy: 0.8921\n",
      "- F1 score: 0.8921\n",
      "- Precision: 0.8929\n",
      "- Recall: 0.8908\n"
     ]
    }
   ],
   "source": [
    "    print('Model performance for test set')\n",
    "    print(\"- Accuracy: {:.4f}\".format(model_test_accuracy))\n",
    "    print(\"- F1 score: {:.4f}\".format(model_test_f1))\n",
    "    print(\"- Precision: {:.4f}\".format(model_test_precision))\n",
    "    print(\"- Recall: {:.4f}\".format(model_test_recall))\n"
   ]
  },
  {
   "cell_type": "code",
   "execution_count": 156,
   "id": "55a44916",
   "metadata": {
    "scrolled": true
   },
   "outputs": [
    {
     "name": "stdout",
     "output_type": "stream",
     "text": [
      "              precision    recall  f1-score   support\n",
      "\n",
      "           0       0.89      0.89      0.89      7421\n",
      "           1       0.89      0.89      0.89      7411\n",
      "\n",
      "    accuracy                           0.89     14832\n",
      "   macro avg       0.89      0.89      0.89     14832\n",
      "weighted avg       0.89      0.89      0.89     14832\n",
      "\n"
     ]
    }
   ],
   "source": [
    "print(classification_report(ytest, Final_RF_pred))"
   ]
  },
  {
   "cell_type": "code",
   "execution_count": 164,
   "id": "d0c32b31",
   "metadata": {},
   "outputs": [
    {
     "data": {
      "text/plain": [
       "array([[6629,  792],\n",
       "       [ 809, 6602]], dtype=int64)"
      ]
     },
     "execution_count": 164,
     "metadata": {},
     "output_type": "execute_result"
    }
   ],
   "source": [
    "cm #confusion matrix"
   ]
  },
  {
   "cell_type": "code",
   "execution_count": 159,
   "id": "62765595",
   "metadata": {},
   "outputs": [
    {
     "data": {
      "image/png": "[encoded data removed]",
      "text/plain": [
       "<Figure size 720x504 with 2 Axes>"
      ]
     },
     "metadata": {
      "needs_background": "light"
     },
     "output_type": "display_data"
    }
   ],
   "source": [
    "from sklearn.metrics import confusion_matrix\n",
    "cm = confusion_matrix(ytest, Final_RF_pred)\n",
    "plt.figure(figsize=(10,7))\n",
    "sns.heatmap(cm,annot=True,fmt=\"d\")\n",
    "plt.xlabel(\"Predicted Value\")\n",
    "plt.ylabel(\"Truth\")\n",
    "plt.show()"
   ]
  },
  {
   "cell_type": "markdown",
   "id": "6d005511",
   "metadata": {},
   "source": [
    "The final model of RandomForest gives the best output for the data, with precion and scores of close to 90% after hyperparameter tuning. Hence the predicted model can give the accuracy results upto 90% to predict the individual income based on features outcomes."
   ]
  }
 ],
 "metadata": {
  "kernelspec": {
   "display_name": "Python 3 (ipykernel)",
   "language": "python",
   "name": "python3"
  },
  "language_info": {
   "codemirror_mode": {
    "name": "ipython",
    "version": 3
   },
   "file_extension": ".py",
   "mimetype": "text/x-python",
   "name": "python",
   "nbconvert_exporter": "python",
   "pygments_lexer": "ipython3",
   "version": "3.9.12"
  }
 },
 "nbformat": 4,
 "nbformat_minor": 5
}

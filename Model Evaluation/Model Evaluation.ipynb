{
 "cells": [
  {
   "cell_type": "markdown",
   "id": "c11b5277",
   "metadata": {},
   "source": [
    "# Model Evaluation\n",
    "In this will test the model on three classfication models\n",
    "1. __Logistic Regression 2. Random Forest 3. Support Vector Machine (SVM)__\n",
    "* Trained and Tested the models without hyper-parameter tuning."
   ]
  },
  {
   "cell_type": "code",
   "execution_count": 1,
   "id": "ab4a376a",
   "metadata": {},
   "outputs": [],
   "source": [
    "from sklearn.linear_model import LogisticRegression\n",
    "from sklearn.ensemble import RandomForestClassifier\n",
    "from sklearn.svm import SVC\n",
    "from sklearn.model_selection import train_test_split\n",
    "from sklearn.metrics import accuracy_score, classification_report, f1_score"
   ]
  },
  {
   "cell_type": "code",
   "execution_count": 70,
   "id": "a8febc29",
   "metadata": {},
   "outputs": [],
   "source": [
    "xtrain, xtest, ytrain, ytest = train_test_split(xr, yr, test_size=0.3)"
   ]
  },
  {
   "cell_type": "code",
   "execution_count": 104,
   "id": "eeea4457",
   "metadata": {},
   "outputs": [
    {
     "name": "stdout",
     "output_type": "stream",
     "text": [
      "X_train shape: (34608, 14)\n",
      "X_test shape: (14832, 14)\n",
      "y_train shape: (34608,)\n",
      "y_test shape: (14832,)\n"
     ]
    }
   ],
   "source": [
    "print(\"X_train shape:\", xtrain.shape)\n",
    "print(\"X_test shape:\", xtest.shape)\n",
    "print(\"y_train shape:\", ytrain.shape)\n",
    "print(\"y_test shape:\", ytest.shape)"
   ]
  },
  {
   "cell_type": "markdown",
   "id": "d6d554cf",
   "metadata": {},
   "source": [
    "Traning and testing all three models at once, genetaring the scores for the same and then picking the best model."
   ]
  },
  {
   "cell_type": "code",
   "execution_count": 103,
   "id": "88e1e957",
   "metadata": {},
   "outputs": [
    {
     "name": "stdout",
     "output_type": "stream",
     "text": [
      "Logistic Regression\n",
      "Model performance for training set\n",
      "- Accuracy: 0.6646\n",
      "- F1 score: 0.6634\n",
      "- Precision: 0.6868\n",
      "- Recall: 0.6055\n",
      "---------------------------\n",
      "Model performance for test set\n",
      "- Accuracy: 0.6606\n",
      "- F1 score: 0.6596\n",
      "- Precision: 0.6797\n",
      "- Recall: 0.6065\n",
      "===================================\n",
      "\n",
      "\n",
      "Random Forest Classifier\n",
      "Model performance for training set\n",
      "- Accuracy: 1.0000\n",
      "- F1 score: 1.0000\n",
      "- Precision: 1.0000\n",
      "- Recall: 0.9999\n",
      "---------------------------\n",
      "Model performance for test set\n",
      "- Accuracy: 0.8892\n",
      "- F1 score: 0.8892\n",
      "- Precision: 0.8906\n",
      "- Recall: 0.8873\n",
      "===================================\n",
      "\n",
      "\n",
      "Support Vector machine\n",
      "Model performance for training set\n",
      "- Accuracy: 0.5936\n",
      "- F1 score: 0.5203\n",
      "- Precision: 0.9298\n",
      "- Recall: 0.2027\n",
      "---------------------------\n",
      "Model performance for test set\n",
      "- Accuracy: 0.5910\n",
      "- F1 score: 0.5160\n",
      "- Precision: 0.9264\n",
      "- Recall: 0.1971\n",
      "===================================\n",
      "\n",
      "\n"
     ]
    }
   ],
   "source": [
    "models={\n",
    "    \"Logistic Regression\":LogisticRegression(),\n",
    "    \"Random Forest Classifier\": RandomForestClassifier(),\n",
    "    \"Support Vector machine\": SVC()\n",
    "}\n",
    "for i in range(len(list(models))):\n",
    "    model = list(models.values())[i]\n",
    "    model.fit(xtrain, ytrain)\n",
    "    \n",
    "    ytrain_pred = model.predict(xtrain)\n",
    "    ytest_pred = model.predict(xtest)\n",
    "    \n",
    "    \n",
    "    model_train_accuracy = accuracy_score(ytrain,ytrain_pred)\n",
    "    model_train_f1 = f1_score(ytrain,ytrain_pred,average='weighted')\n",
    "    model_train_precision = precision_score(ytrain,ytrain_pred)\n",
    "    model_train_recall = recall_score(ytrain,ytrain_pred)\n",
    "    \n",
    "    \n",
    "    model_test_accuracy = accuracy_score(ytest,ytest_pred)\n",
    "    model_test_f1 = f1_score(ytest,ytest_pred,average='weighted')\n",
    "    model_test_precision = precision_score(ytest,ytest_pred)\n",
    "    model_test_recall = recall_score(ytest,ytest_pred)\n",
    "    \n",
    "    \n",
    "    print(list(models.keys())[i])\n",
    "\n",
    "    print('Model performance for training set')\n",
    "    print(\"- Accuracy: {:.4f}\".format(model_train_accuracy))\n",
    "    print(\"- F1 score: {:.4f}\".format(model_train_f1))\n",
    "\n",
    "    print(\"- Precision: {:.4f}\".format(model_train_precision))\n",
    "    print(\"- Recall: {:.4f}\".format(model_train_recall))\n",
    "\n",
    "    print('---------------------------')\n",
    "\n",
    "    print('Model performance for test set')\n",
    "    print(\"- Accuracy: {:.4f}\".format(model_test_accuracy))\n",
    "    print(\"- F1 score: {:.4f}\".format(model_test_f1))\n",
    "    print(\"- Precision: {:.4f}\".format(model_test_precision))\n",
    "    print(\"- Recall: {:.4f}\".format(model_test_recall))\n",
    "\n",
    "    print('='*35)\n",
    "    print('\\n')\n",
    "    "
   ]
  },
  {
   "cell_type": "markdown",
   "id": "d0168afc",
   "metadata": {},
   "source": [
    "From the above model Logistic regression and Support vector machine has failed to give good scores,\n",
    "Whereas __RandomForestclassifier__ with best results of \n",
    "- Accuracy: 0.8892\n",
    "- F1 score: 0.8892\n",
    "- Precision: 0.8906\n",
    "- Recall: 0.8873.\n",
    "/Hence I will perform hyperparameter tuning on this RandomForest model to increase the accuracy and the scores."
   ]
  },
  {
   "cell_type": "code",
   "execution_count": 105,
   "id": "1af79413",
   "metadata": {},
   "outputs": [],
   "source": [
    "from sklearn.model_selection import RandomizedSearchCV"
   ]
  },
  {
   "cell_type": "code",
   "execution_count": 122,
   "id": "5fb9e24d",
   "metadata": {},
   "outputs": [],
   "source": [
    "rf_params= {\"max_depth\": [int(x) for x in np.linspace(start=40, stop=100, num=7)],\n",
    "           \"min_samples_split\": [2, 7, 8, 10, 18, 20],\n",
    "           \"n_estimators\": [100, 200, 500,]}"
   ]
  },
  {
   "cell_type": "code",
   "execution_count": 123,
   "id": "fca8f099",
   "metadata": {},
   "outputs": [
    {
     "data": {
      "text/plain": [
       "{'max_depth': [40, 50, 60, 70, 80, 90, 100],\n",
       " 'min_samples_split': [2, 7, 8, 10, 18, 20],\n",
       " 'n_estimators': [100, 200, 500]}"
      ]
     },
     "execution_count": 123,
     "metadata": {},
     "output_type": "execute_result"
    }
   ],
   "source": [
    "rf_params"
   ]
  },
  {
   "cell_type": "code",
   "execution_count": 124,
   "id": "10bd8b91",
   "metadata": {},
   "outputs": [],
   "source": [
    "randomcv_models = [(\"RF\", RandomForestClassifier(), rf_params)]"
   ]
  },
  {
   "cell_type": "code",
   "execution_count": 125,
   "id": "9347c2ba",
   "metadata": {},
   "outputs": [
    {
     "data": {
      "text/plain": [
       "[('RF',\n",
       "  RandomForestClassifier(),\n",
       "  {'max_depth': [40, 50, 60, 70, 80, 90, 100],\n",
       "   'min_samples_split': [2, 7, 8, 10, 18, 20],\n",
       "   'n_estimators': [100, 200, 500]})]"
      ]
     },
     "execution_count": 125,
     "metadata": {},
     "output_type": "execute_result"
    }
   ],
   "source": [
    "randomcv_models"
   ]
  },
  {
   "cell_type": "code",
   "execution_count": null,
   "id": "64c43d5c",
   "metadata": {},
   "outputs": [],
   "source": [
    "rf_model = Ra"
   ]
  },
  {
   "cell_type": "code",
   "execution_count": 132,
   "id": "a6ae5efe",
   "metadata": {},
   "outputs": [
    {
     "data": {
      "text/html": [
       "<style>#sk-container-id-5 {color: black;background-color: white;}#sk-container-id-5 pre{padding: 0;}#sk-container-id-5 div.sk-toggleable {background-color: white;}#sk-container-id-5 label.sk-toggleable__label {cursor: pointer;display: block;width: 100%;margin-bottom: 0;padding: 0.3em;box-sizing: border-box;text-align: center;}#sk-container-id-5 label.sk-toggleable__label-arrow:before {content: \"▸\";float: left;margin-right: 0.25em;color: #696969;}#sk-container-id-5 label.sk-toggleable__label-arrow:hover:before {color: black;}#sk-container-id-5 div.sk-estimator:hover label.sk-toggleable__label-arrow:before {color: black;}#sk-container-id-5 div.sk-toggleable__content {max-height: 0;max-width: 0;overflow: hidden;text-align: left;background-color: #f0f8ff;}#sk-container-id-5 div.sk-toggleable__content pre {margin: 0.2em;color: black;border-radius: 0.25em;background-color: #f0f8ff;}#sk-container-id-5 input.sk-toggleable__control:checked~div.sk-toggleable__content {max-height: 200px;max-width: 100%;overflow: auto;}#sk-container-id-5 input.sk-toggleable__control:checked~label.sk-toggleable__label-arrow:before {content: \"▾\";}#sk-container-id-5 div.sk-estimator input.sk-toggleable__control:checked~label.sk-toggleable__label {background-color: #d4ebff;}#sk-container-id-5 div.sk-label input.sk-toggleable__control:checked~label.sk-toggleable__label {background-color: #d4ebff;}#sk-container-id-5 input.sk-hidden--visually {border: 0;clip: rect(1px 1px 1px 1px);clip: rect(1px, 1px, 1px, 1px);height: 1px;margin: -1px;overflow: hidden;padding: 0;position: absolute;width: 1px;}#sk-container-id-5 div.sk-estimator {font-family: monospace;background-color: #f0f8ff;border: 1px dotted black;border-radius: 0.25em;box-sizing: border-box;margin-bottom: 0.5em;}#sk-container-id-5 div.sk-estimator:hover {background-color: #d4ebff;}#sk-container-id-5 div.sk-parallel-item::after {content: \"\";width: 100%;border-bottom: 1px solid gray;flex-grow: 1;}#sk-container-id-5 div.sk-label:hover label.sk-toggleable__label {background-color: #d4ebff;}#sk-container-id-5 div.sk-serial::before {content: \"\";position: absolute;border-left: 1px solid gray;box-sizing: border-box;top: 0;bottom: 0;left: 50%;z-index: 0;}#sk-container-id-5 div.sk-serial {display: flex;flex-direction: column;align-items: center;background-color: white;padding-right: 0.2em;padding-left: 0.2em;position: relative;}#sk-container-id-5 div.sk-item {position: relative;z-index: 1;}#sk-container-id-5 div.sk-parallel {display: flex;align-items: stretch;justify-content: center;background-color: white;position: relative;}#sk-container-id-5 div.sk-item::before, #sk-container-id-5 div.sk-parallel-item::before {content: \"\";position: absolute;border-left: 1px solid gray;box-sizing: border-box;top: 0;bottom: 0;left: 50%;z-index: -1;}#sk-container-id-5 div.sk-parallel-item {display: flex;flex-direction: column;z-index: 1;position: relative;background-color: white;}#sk-container-id-5 div.sk-parallel-item:first-child::after {align-self: flex-end;width: 50%;}#sk-container-id-5 div.sk-parallel-item:last-child::after {align-self: flex-start;width: 50%;}#sk-container-id-5 div.sk-parallel-item:only-child::after {width: 0;}#sk-container-id-5 div.sk-dashed-wrapped {border: 1px dashed gray;margin: 0 0.4em 0.5em 0.4em;box-sizing: border-box;padding-bottom: 0.4em;background-color: white;}#sk-container-id-5 div.sk-label label {font-family: monospace;font-weight: bold;display: inline-block;line-height: 1.2em;}#sk-container-id-5 div.sk-label-container {text-align: center;}#sk-container-id-5 div.sk-container {/* jupyter's `normalize.less` sets `[hidden] { display: none; }` but bootstrap.min.css set `[hidden] { display: none !important; }` so we also need the `!important` here to be able to override the default hidden behavior on the sphinx rendered scikit-learn.org. See: https://github.com/scikit-learn/scikit-learn/issues/21755 */display: inline-block !important;position: relative;}#sk-container-id-5 div.sk-text-repr-fallback {display: none;}</style><div id=\"sk-container-id-5\" class=\"sk-top-container\"><div class=\"sk-text-repr-fallback\"><pre>RandomizedSearchCV(cv=3, estimator=RandomForestClassifier(), n_iter=12,\n",
       "                   n_jobs=-1,\n",
       "                   param_distributions={&#x27;max_depth&#x27;: [40, 50, 60, 70, 80, 90,\n",
       "                                                      100],\n",
       "                                        &#x27;min_samples_split&#x27;: [2, 7, 8, 10, 18,\n",
       "                                                              20],\n",
       "                                        &#x27;n_estimators&#x27;: [100, 200, 500]})</pre><b>In a Jupyter environment, please rerun this cell to show the HTML representation or trust the notebook. <br />On GitHub, the HTML representation is unable to render, please try loading this page with nbviewer.org.</b></div><div class=\"sk-container\" hidden><div class=\"sk-item sk-dashed-wrapped\"><div class=\"sk-label-container\"><div class=\"sk-label sk-toggleable\"><input class=\"sk-toggleable__control sk-hidden--visually\" id=\"sk-estimator-id-7\" type=\"checkbox\" ><label for=\"sk-estimator-id-7\" class=\"sk-toggleable__label sk-toggleable__label-arrow\">RandomizedSearchCV</label><div class=\"sk-toggleable__content\"><pre>RandomizedSearchCV(cv=3, estimator=RandomForestClassifier(), n_iter=12,\n",
       "                   n_jobs=-1,\n",
       "                   param_distributions={&#x27;max_depth&#x27;: [40, 50, 60, 70, 80, 90,\n",
       "                                                      100],\n",
       "                                        &#x27;min_samples_split&#x27;: [2, 7, 8, 10, 18,\n",
       "                                                              20],\n",
       "                                        &#x27;n_estimators&#x27;: [100, 200, 500]})</pre></div></div></div><div class=\"sk-parallel\"><div class=\"sk-parallel-item\"><div class=\"sk-item\"><div class=\"sk-label-container\"><div class=\"sk-label sk-toggleable\"><input class=\"sk-toggleable__control sk-hidden--visually\" id=\"sk-estimator-id-8\" type=\"checkbox\" ><label for=\"sk-estimator-id-8\" class=\"sk-toggleable__label sk-toggleable__label-arrow\">estimator: RandomForestClassifier</label><div class=\"sk-toggleable__content\"><pre>RandomForestClassifier()</pre></div></div></div><div class=\"sk-serial\"><div class=\"sk-item\"><div class=\"sk-estimator sk-toggleable\"><input class=\"sk-toggleable__control sk-hidden--visually\" id=\"sk-estimator-id-9\" type=\"checkbox\" ><label for=\"sk-estimator-id-9\" class=\"sk-toggleable__label sk-toggleable__label-arrow\">RandomForestClassifier</label><div class=\"sk-toggleable__content\"><pre>RandomForestClassifier()</pre></div></div></div></div></div></div></div></div></div></div>"
      ],
      "text/plain": [
       "RandomizedSearchCV(cv=3, estimator=RandomForestClassifier(), n_iter=12,\n",
       "                   n_jobs=-1,\n",
       "                   param_distributions={'max_depth': [40, 50, 60, 70, 80, 90,\n",
       "                                                      100],\n",
       "                                        'min_samples_split': [2, 7, 8, 10, 18,\n",
       "                                                              20],\n",
       "                                        'n_estimators': [100, 200, 500]})"
      ]
     },
     "execution_count": 132,
     "metadata": {},
     "output_type": "execute_result"
    }
   ],
   "source": [
    "random = RandomizedSearchCV(estimator=RandomForestClassifier(),\n",
    "                                   param_distributions=rf_params,\n",
    "                                   n_iter=12,\n",
    "                                   cv=3,\n",
    "                                   n_jobs=-1)\n",
    "random.fit(xtrain, ytrain)"
   ]
  },
  {
   "cell_type": "code",
   "execution_count": 137,
   "id": "3896a97d",
   "metadata": {},
   "outputs": [
    {
     "data": {
      "text/plain": [
       "{'n_estimators': 200, 'min_samples_split': 8, 'max_depth': 100}"
      ]
     },
     "execution_count": 137,
     "metadata": {},
     "output_type": "execute_result"
    }
   ],
   "source": [
    "random.best_params_"
   ]
  },
  {
   "cell_type": "code",
   "execution_count": 138,
   "id": "b7444426",
   "metadata": {},
   "outputs": [
    {
     "data": {
      "text/plain": [
       "0.8914123901987979"
      ]
     },
     "execution_count": 138,
     "metadata": {},
     "output_type": "execute_result"
    }
   ],
   "source": [
    "random.best_score_"
   ]
  },
  {
   "cell_type": "markdown",
   "id": "3307c18a",
   "metadata": {},
   "source": [
    "Now traning the model with the above given parameters to get the best results."
   ]
  },
  {
   "cell_type": "code",
   "execution_count": 139,
   "id": "2e717b50",
   "metadata": {},
   "outputs": [],
   "source": [
    "Final_RF = RandomForestClassifier(n_estimators=200, min_samples_split=8, max_depth=90)"
   ]
  },
  {
   "cell_type": "code",
   "execution_count": 140,
   "id": "2668259f",
   "metadata": {},
   "outputs": [
    {
     "data": {
      "text/html": [
       "<style>#sk-container-id-6 {color: black;background-color: white;}#sk-container-id-6 pre{padding: 0;}#sk-container-id-6 div.sk-toggleable {background-color: white;}#sk-container-id-6 label.sk-toggleable__label {cursor: pointer;display: block;width: 100%;margin-bottom: 0;padding: 0.3em;box-sizing: border-box;text-align: center;}#sk-container-id-6 label.sk-toggleable__label-arrow:before {content: \"▸\";float: left;margin-right: 0.25em;color: #696969;}#sk-container-id-6 label.sk-toggleable__label-arrow:hover:before {color: black;}#sk-container-id-6 div.sk-estimator:hover label.sk-toggleable__label-arrow:before {color: black;}#sk-container-id-6 div.sk-toggleable__content {max-height: 0;max-width: 0;overflow: hidden;text-align: left;background-color: #f0f8ff;}#sk-container-id-6 div.sk-toggleable__content pre {margin: 0.2em;color: black;border-radius: 0.25em;background-color: #f0f8ff;}#sk-container-id-6 input.sk-toggleable__control:checked~div.sk-toggleable__content {max-height: 200px;max-width: 100%;overflow: auto;}#sk-container-id-6 input.sk-toggleable__control:checked~label.sk-toggleable__label-arrow:before {content: \"▾\";}#sk-container-id-6 div.sk-estimator input.sk-toggleable__control:checked~label.sk-toggleable__label {background-color: #d4ebff;}#sk-container-id-6 div.sk-label input.sk-toggleable__control:checked~label.sk-toggleable__label {background-color: #d4ebff;}#sk-container-id-6 input.sk-hidden--visually {border: 0;clip: rect(1px 1px 1px 1px);clip: rect(1px, 1px, 1px, 1px);height: 1px;margin: -1px;overflow: hidden;padding: 0;position: absolute;width: 1px;}#sk-container-id-6 div.sk-estimator {font-family: monospace;background-color: #f0f8ff;border: 1px dotted black;border-radius: 0.25em;box-sizing: border-box;margin-bottom: 0.5em;}#sk-container-id-6 div.sk-estimator:hover {background-color: #d4ebff;}#sk-container-id-6 div.sk-parallel-item::after {content: \"\";width: 100%;border-bottom: 1px solid gray;flex-grow: 1;}#sk-container-id-6 div.sk-label:hover label.sk-toggleable__label {background-color: #d4ebff;}#sk-container-id-6 div.sk-serial::before {content: \"\";position: absolute;border-left: 1px solid gray;box-sizing: border-box;top: 0;bottom: 0;left: 50%;z-index: 0;}#sk-container-id-6 div.sk-serial {display: flex;flex-direction: column;align-items: center;background-color: white;padding-right: 0.2em;padding-left: 0.2em;position: relative;}#sk-container-id-6 div.sk-item {position: relative;z-index: 1;}#sk-container-id-6 div.sk-parallel {display: flex;align-items: stretch;justify-content: center;background-color: white;position: relative;}#sk-container-id-6 div.sk-item::before, #sk-container-id-6 div.sk-parallel-item::before {content: \"\";position: absolute;border-left: 1px solid gray;box-sizing: border-box;top: 0;bottom: 0;left: 50%;z-index: -1;}#sk-container-id-6 div.sk-parallel-item {display: flex;flex-direction: column;z-index: 1;position: relative;background-color: white;}#sk-container-id-6 div.sk-parallel-item:first-child::after {align-self: flex-end;width: 50%;}#sk-container-id-6 div.sk-parallel-item:last-child::after {align-self: flex-start;width: 50%;}#sk-container-id-6 div.sk-parallel-item:only-child::after {width: 0;}#sk-container-id-6 div.sk-dashed-wrapped {border: 1px dashed gray;margin: 0 0.4em 0.5em 0.4em;box-sizing: border-box;padding-bottom: 0.4em;background-color: white;}#sk-container-id-6 div.sk-label label {font-family: monospace;font-weight: bold;display: inline-block;line-height: 1.2em;}#sk-container-id-6 div.sk-label-container {text-align: center;}#sk-container-id-6 div.sk-container {/* jupyter's `normalize.less` sets `[hidden] { display: none; }` but bootstrap.min.css set `[hidden] { display: none !important; }` so we also need the `!important` here to be able to override the default hidden behavior on the sphinx rendered scikit-learn.org. See: https://github.com/scikit-learn/scikit-learn/issues/21755 */display: inline-block !important;position: relative;}#sk-container-id-6 div.sk-text-repr-fallback {display: none;}</style><div id=\"sk-container-id-6\" class=\"sk-top-container\"><div class=\"sk-text-repr-fallback\"><pre>RandomForestClassifier(max_depth=90, min_samples_split=8, n_estimators=200)</pre><b>In a Jupyter environment, please rerun this cell to show the HTML representation or trust the notebook. <br />On GitHub, the HTML representation is unable to render, please try loading this page with nbviewer.org.</b></div><div class=\"sk-container\" hidden><div class=\"sk-item\"><div class=\"sk-estimator sk-toggleable\"><input class=\"sk-toggleable__control sk-hidden--visually\" id=\"sk-estimator-id-10\" type=\"checkbox\" checked><label for=\"sk-estimator-id-10\" class=\"sk-toggleable__label sk-toggleable__label-arrow\">RandomForestClassifier</label><div class=\"sk-toggleable__content\"><pre>RandomForestClassifier(max_depth=90, min_samples_split=8, n_estimators=200)</pre></div></div></div></div></div>"
      ],
      "text/plain": [
       "RandomForestClassifier(max_depth=90, min_samples_split=8, n_estimators=200)"
      ]
     },
     "execution_count": 140,
     "metadata": {},
     "output_type": "execute_result"
    }
   ],
   "source": [
    "Final_RF.fit(xtrain,ytrain)"
   ]
  },
  {
   "cell_type": "code",
   "execution_count": 141,
   "id": "089492b9",
   "metadata": {},
   "outputs": [],
   "source": [
    "Final_RF_pred = Final_RF.predict(xtest)"
   ]
  },
  {
   "cell_type": "code",
   "execution_count": 142,
   "id": "15d9284c",
   "metadata": {},
   "outputs": [],
   "source": [
    "model_test_accuracy = accuracy_score(ytest,Final_RF_pred)\n",
    "model_test_f1 = f1_score(ytest,Final_RF_pred,average='weighted')\n",
    "model_test_precision = precision_score(ytest,Final_RF_pred)\n",
    "model_test_recall = recall_score(ytest,Final_RF_pred)"
   ]
  },
  {
   "cell_type": "code",
   "execution_count": 150,
   "id": "c3f2c8ab",
   "metadata": {},
   "outputs": [
    {
     "name": "stdout",
     "output_type": "stream",
     "text": [
      "Model performance for test set\n",
      "- Accuracy: 0.8921\n",
      "- F1 score: 0.8921\n",
      "- Precision: 0.8929\n",
      "- Recall: 0.8908\n"
     ]
    }
   ],
   "source": [
    "    print('Model performance for test set')\n",
    "    print(\"- Accuracy: {:.4f}\".format(model_test_accuracy))\n",
    "    print(\"- F1 score: {:.4f}\".format(model_test_f1))\n",
    "    print(\"- Precision: {:.4f}\".format(model_test_precision))\n",
    "    print(\"- Recall: {:.4f}\".format(model_test_recall))\n"
   ]
  },
  {
   "cell_type": "code",
   "execution_count": 156,
   "id": "55a44916",
   "metadata": {
    "scrolled": true
   },
   "outputs": [
    {
     "name": "stdout",
     "output_type": "stream",
     "text": [
      "              precision    recall  f1-score   support\n",
      "\n",
      "           0       0.89      0.89      0.89      7421\n",
      "           1       0.89      0.89      0.89      7411\n",
      "\n",
      "    accuracy                           0.89     14832\n",
      "   macro avg       0.89      0.89      0.89     14832\n",
      "weighted avg       0.89      0.89      0.89     14832\n",
      "\n"
     ]
    }
   ],
   "source": [
    "print(classification_report(ytest, Final_RF_pred))"
   ]
  },
  {
   "cell_type": "code",
   "execution_count": 164,
   "id": "d0c32b31",
   "metadata": {},
   "outputs": [
    {
     "data": {
      "text/plain": [
       "array([[6629,  792],\n",
       "       [ 809, 6602]], dtype=int64)"
      ]
     },
     "execution_count": 164,
     "metadata": {},
     "output_type": "execute_result"
    }
   ],
   "source": [
    "cm #confusion matrix"
   ]
  },
  {
   "cell_type": "code",
   "execution_count": 159,
   "id": "62765595",
   "metadata": {},
   "outputs": [
    {
     "data": {
      "image/png": "[encoded data removed]",
      "text/plain": [
       "<Figure size 720x504 with 2 Axes>"
      ]
     },
     "metadata": {
      "needs_background": "light"
     },
     "output_type": "display_data"
    }
   ],
   "source": [
    "from sklearn.metrics import confusion_matrix\n",
    "cm = confusion_matrix(ytest, Final_RF_pred)\n",
    "plt.figure(figsize=(10,7))\n",
    "sns.heatmap(cm,annot=True,fmt=\"d\")\n",
    "plt.xlabel(\"Predicted Value\")\n",
    "plt.ylabel(\"Truth\")\n",
    "plt.show()"
   ]
  },
  {
   "cell_type": "markdown",
   "id": "6d005511",
   "metadata": {},
   "source": [
    "The final model of RandomForest gives the best output for the data, with precion and scores of close to 90% after hyperparameter tuning. Hence the predicted model can give the accuracy results upto 90% to predict the individual income based on features outcomes."
   ]
  }
 ],
 "metadata": {
  "kernelspec": {
   "display_name": "Python 3 (ipykernel)",
   "language": "python",
   "name": "python3"
  },
  "language_info": {
   "codemirror_mode": {
    "name": "ipython",
    "version": 3
   },
   "file_extension": ".py",
   "mimetype": "text/x-python",
   "name": "python",
   "nbconvert_exporter": "python",
   "pygments_lexer": "ipython3",
   "version": "3.9.12"
  }
 },
 "nbformat": 4,
 "nbformat_minor": 5
}
